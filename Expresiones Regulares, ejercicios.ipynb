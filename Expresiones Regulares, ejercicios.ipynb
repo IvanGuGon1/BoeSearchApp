{
 "cells": [
  {
   "cell_type": "code",
   "execution_count": 68,
   "id": "f156b2dd",
   "metadata": {},
   "outputs": [
    {
     "data": {
      "text/plain": [
       "'\\nhttps://www.w3resource.com/python-exercises/re/\\n'"
      ]
     },
     "execution_count": 68,
     "metadata": {},
     "output_type": "execute_result"
    }
   ],
   "source": [
    "\"\"\"\n",
    "Teoria\n",
    "\n",
    "https://relopezbriega.github.io/blog/2015/07/19/expresiones-regulares-con-python/\n",
    "\n",
    "Practica\n",
    "\n",
    "https://www.w3resource.com/python-exercises/re/\n",
    "\"\"\""
   ]
  },
  {
   "cell_type": "code",
   "execution_count": 1,
   "id": "e05532a1",
   "metadata": {},
   "outputs": [
    {
     "data": {
      "text/plain": [
       "'\\nEJEMPLOS\\n\\n'"
      ]
     },
     "execution_count": 1,
     "metadata": {},
     "output_type": "execute_result"
    }
   ],
   "source": [
    "\"\"\"\n",
    "EJEMPLOS\n",
    "\n",
    "\"\"\""
   ]
  },
  {
   "cell_type": "code",
   "execution_count": 24,
   "id": "8cac4727",
   "metadata": {},
   "outputs": [],
   "source": [
    "texto = \"\"\" IVAN bar foo bar\n",
    "foo GUTIERREZ barbarfoo\n",
    "foofoo foo bar\n",
    "\"\"\""
   ]
  },
  {
   "cell_type": "code",
   "execution_count": 13,
   "id": "93fcf6fa",
   "metadata": {},
   "outputs": [],
   "source": [
    "import re"
   ]
  },
  {
   "cell_type": "code",
   "execution_count": 15,
   "id": "e30273bf",
   "metadata": {},
   "outputs": [],
   "source": [
    "patron = re.compile(r'\\bfoo\\b')"
   ]
  },
  {
   "cell_type": "code",
   "execution_count": 17,
   "id": "4500dcca",
   "metadata": {},
   "outputs": [
    {
     "name": "stdout",
     "output_type": "stream",
     "text": [
      "<re.Match object; span=(5, 8), match='foo'>\n"
     ]
    }
   ],
   "source": [
    "print(patron.search(texto))"
   ]
  },
  {
   "cell_type": "code",
   "execution_count": 18,
   "id": "17bf6df3",
   "metadata": {},
   "outputs": [
    {
     "name": "stdout",
     "output_type": "stream",
     "text": [
      "['foo', 'foo', 'foo']\n"
     ]
    }
   ],
   "source": [
    "print(patron.findall(texto))"
   ]
  },
  {
   "cell_type": "code",
   "execution_count": 23,
   "id": "3736db36",
   "metadata": {},
   "outputs": [
    {
     "data": {
      "text/plain": [
       "5"
      ]
     },
     "execution_count": 23,
     "metadata": {},
     "output_type": "execute_result"
    }
   ],
   "source": [
    "patron.search(texto).start()"
   ]
  },
  {
   "cell_type": "code",
   "execution_count": 22,
   "id": "4c6dd345",
   "metadata": {},
   "outputs": [
    {
     "data": {
      "text/plain": [
       "'foo'"
      ]
     },
     "execution_count": 22,
     "metadata": {},
     "output_type": "execute_result"
    }
   ],
   "source": [
    "patron.search(texto).group()"
   ]
  },
  {
   "cell_type": "code",
   "execution_count": 25,
   "id": "173a86ca",
   "metadata": {},
   "outputs": [],
   "source": [
    "patron = re.compile(r'\\bfoo\\b')"
   ]
  },
  {
   "cell_type": "code",
   "execution_count": 3,
   "id": "c51ee72d",
   "metadata": {},
   "outputs": [
    {
     "data": {
      "text/plain": [
       "'\\nEJERCICIOS\\n\\n'"
      ]
     },
     "execution_count": 3,
     "metadata": {},
     "output_type": "execute_result"
    }
   ],
   "source": [
    "\"\"\"\n",
    "EJERCICIOS\n",
    "\n",
    "\"\"\""
   ]
  },
  {
   "cell_type": "code",
   "execution_count": 1,
   "id": "046dc32d",
   "metadata": {},
   "outputs": [
    {
     "data": {
      "text/plain": [
       "'\\n1. Escriba un programa Python para verificar que una cadena contenga solo un determinado conjunto de caracteres (en este caso az, AZ y 0-9).\\n'"
      ]
     },
     "execution_count": 1,
     "metadata": {},
     "output_type": "execute_result"
    }
   ],
   "source": [
    "\"\"\"\n",
    "1. Escriba un programa Python para verificar que una cadena contenga solo un determinado conjunto de caracteres (en este caso az, AZ y 0-9).\n",
    "\"\"\""
   ]
  },
  {
   "cell_type": "code",
   "execution_count": 45,
   "id": "a4bbf85b",
   "metadata": {},
   "outputs": [],
   "source": [
    "texto = \"asdad grepo grupo techo\"\n",
    "patron = re.compile(r'\\b[a-]\\b')"
   ]
  },
  {
   "cell_type": "code",
   "execution_count": 47,
   "id": "8c1168df",
   "metadata": {},
   "outputs": [
    {
     "name": "stdout",
     "output_type": "stream",
     "text": [
      "['grepo', 'grupo']\n"
     ]
    }
   ],
   "source": [
    "print(patron.findall(texto))"
   ]
  },
  {
   "cell_type": "code",
   "execution_count": 61,
   "id": "898bcd60",
   "metadata": {},
   "outputs": [],
   "source": [
    "iterator = patron.finditer(texto)"
   ]
  },
  {
   "cell_type": "code",
   "execution_count": 62,
   "id": "0a886103",
   "metadata": {},
   "outputs": [
    {
     "name": "stdout",
     "output_type": "stream",
     "text": [
      "<re.Match object; span=(6, 11), match='grepo'> group grepo Inicio en 6 Fin en 11\n",
      "<re.Match object; span=(12, 17), match='grupo'> group grupo Inicio en 12 Fin en 17\n"
     ]
    },
    {
     "data": {
      "text/plain": [
       "[None, None]"
      ]
     },
     "execution_count": 62,
     "metadata": {},
     "output_type": "execute_result"
    }
   ],
   "source": [
    "[print(f\"{x} group {x.group()} Inicio en {x.start()} Fin en {x.end()}\") \n",
    " for x in iterator]\n"
   ]
  },
  {
   "cell_type": "code",
   "execution_count": 85,
   "id": "344c48f6",
   "metadata": {},
   "outputs": [],
   "source": [
    "texto = \"\"\" IVAN ba1r foo bar\n",
    "foo GUTIERREZ barbarfoo\n",
    "foofoo foo bar\n",
    "\"\"\""
   ]
  },
  {
   "cell_type": "code",
   "execution_count": 86,
   "id": "4f87f20a",
   "metadata": {},
   "outputs": [],
   "source": [
    "patron = re.compile(r'\\b[a-zA-Z0-9]+\\b')"
   ]
  },
  {
   "cell_type": "code",
   "execution_count": 87,
   "id": "d418a7dd",
   "metadata": {},
   "outputs": [
    {
     "name": "stdout",
     "output_type": "stream",
     "text": [
      "['IVAN', 'ba1r', 'foo', 'bar', 'foo', 'GUTIERREZ', 'barbarfoo', 'foofoo', 'foo', 'bar']\n"
     ]
    }
   ],
   "source": [
    "print(patron.findall(texto))"
   ]
  },
  {
   "cell_type": "code",
   "execution_count": 2,
   "id": "109f1630",
   "metadata": {},
   "outputs": [
    {
     "data": {
      "text/plain": [
       "'\\n2. Escriba un programa Python que coincida con una cadena que tenga una a seguida de cero o más b.\\n'"
      ]
     },
     "execution_count": 2,
     "metadata": {},
     "output_type": "execute_result"
    }
   ],
   "source": [
    "\"\"\"\n",
    "2. Escriba un programa Python que coincida con una cadena que tenga una a seguida de cero o más b.\n",
    "\"\"\""
   ]
  },
  {
   "cell_type": "code",
   "execution_count": null,
   "id": "6496a1f9",
   "metadata": {},
   "outputs": [],
   "source": [
    "patron = re.compile(r'\\b[a]+\\b')"
   ]
  },
  {
   "cell_type": "code",
   "execution_count": 89,
   "id": "e7fe3a9e",
   "metadata": {},
   "outputs": [
    {
     "data": {
      "text/plain": [
       "['abbb', 'ab', 'abb']"
      ]
     },
     "execution_count": 89,
     "metadata": {},
     "output_type": "execute_result"
    }
   ],
   "source": [
    "\"\"\"\n",
    "3. Escriba un programa Python que coincida con una cadena que tenga una a seguida de una o más b.\n",
    "\"\"\"\n",
    "texto = \"asdasd abbb ab abb \"\n",
    "patron = re.compile(r'\\b(ab+)\\b')\n",
    "patron.findall(texto)"
   ]
  },
  {
   "cell_type": "code",
   "execution_count": 98,
   "id": "6e6cbe73",
   "metadata": {},
   "outputs": [
    {
     "data": {
      "text/plain": [
       "['a0', 'ab', 'ab']"
      ]
     },
     "execution_count": 98,
     "metadata": {},
     "output_type": "execute_result"
    }
   ],
   "source": [
    "\"\"\"\n",
    "4. Escriba un programa Python que coincida con una cadena que tenga una a seguida de cero o una 'b'.\n",
    "\"\"\"\n",
    "texto = \"asdasd abbb a0 ab ab abb \"\n",
    "patron = re.compile(r'\\b(a0|ab)\\b')\n",
    "patron.findall(texto)"
   ]
  },
  {
   "cell_type": "code",
   "execution_count": 99,
   "id": "3bcb42c3",
   "metadata": {},
   "outputs": [
    {
     "data": {
      "text/plain": [
       "['abbb']"
      ]
     },
     "execution_count": 99,
     "metadata": {},
     "output_type": "execute_result"
    }
   ],
   "source": [
    "\"\"\"\n",
    "5. Escriba un programa Python que coincida con una cadena que tenga una a seguida de tres 'b'.\n",
    "\n",
    "\"\"\"\n",
    "texto = \"asdasd abbb a0 ab ab abb \"\n",
    "patron = re.compile(r'\\babbb\\b')\n",
    "patron.findall(texto)"
   ]
  },
  {
   "cell_type": "code",
   "execution_count": 100,
   "id": "17996654",
   "metadata": {},
   "outputs": [
    {
     "data": {
      "text/plain": [
       "['abbb']"
      ]
     },
     "execution_count": 100,
     "metadata": {},
     "output_type": "execute_result"
    }
   ],
   "source": [
    "\"\"\"\n",
    "6. Escriba un programa Python que coincida con una cadena que tenga una a seguida de dos o tres 'b'.\n",
    "\"\"\"\n",
    "texto = \"asdasd abbb a0 ab ab abb \"\n",
    "patron = re.compile(r'\\babbb\\b')\n",
    "patron.findall(texto)"
   ]
  },
  {
   "cell_type": "code",
   "execution_count": 102,
   "id": "cea31213",
   "metadata": {},
   "outputs": [
    {
     "data": {
      "text/plain": [
       "['a-b-c']"
      ]
     },
     "execution_count": 102,
     "metadata": {},
     "output_type": "execute_result"
    }
   ],
   "source": [
    "\"\"\"\n",
    "7. Escriba un programa Python para encontrar secuencias de letras minúsculas unidas por un guión bajo.\n",
    "\"\"\"\n",
    "texto = \"asdasd abbb a-b-c a0 ab ab abb \"\n",
    "patron = re.compile(r'\\b[a-z]-[a-z]-[a-z]\\b')\n",
    "patron.findall(texto)"
   ]
  },
  {
   "cell_type": "code",
   "execution_count": 103,
   "id": "6428152b",
   "metadata": {},
   "outputs": [
    {
     "data": {
      "text/plain": [
       "['a-b-c']"
      ]
     },
     "execution_count": 103,
     "metadata": {},
     "output_type": "execute_result"
    }
   ],
   "source": [
    "\"\"\"\n",
    "8. Escriba un programa Python para encontrar las secuencias de una letra mayúscula seguida de letras minúsculas.\n",
    "\"\"\"\n",
    "texto = \"asdasd abbb a-b-c a0 ab ab abb \"\n",
    "patron = re.compile(r'\\b[a-z]-[a-z]-[a-z]\\b')\n",
    "patron.findall(texto)"
   ]
  },
  {
   "cell_type": "code",
   "execution_count": 9,
   "id": "c1ebb910",
   "metadata": {},
   "outputs": [
    {
     "data": {
      "text/plain": [
       "\"\\n9. Escriba un programa Python que coincida con una cadena que tenga una 'a' seguida de cualquier cosa que termine en 'b'.\\n\""
      ]
     },
     "execution_count": 9,
     "metadata": {},
     "output_type": "execute_result"
    }
   ],
   "source": [
    "\"\"\"\n",
    "9. Escriba un programa Python que coincida con una cadena que tenga una 'a' seguida de cualquier cosa que termine en 'b'.\n",
    "\"\"\"\n",
    "texto = \"asdasd abbb a-b-c a0 ab ab abb \"\n",
    "patron = re.compile(r'\\b[a-z]-[a-z]-[a-z]\\b')\n",
    "patron.findall(texto)"
   ]
  },
  {
   "cell_type": "code",
   "execution_count": 10,
   "id": "07db9c79",
   "metadata": {},
   "outputs": [
    {
     "data": {
      "text/plain": [
       "'\\n10. Escriba un programa Python que haga coincidir una palabra al principio de una cadena.\\n\\n'"
      ]
     },
     "execution_count": 10,
     "metadata": {},
     "output_type": "execute_result"
    }
   ],
   "source": [
    "\"\"\"\n",
    "10. Escriba un programa Python que haga coincidir una palabra al principio de una cadena.\n",
    "\n",
    "\"\"\""
   ]
  },
  {
   "cell_type": "code",
   "execution_count": 11,
   "id": "90f05943",
   "metadata": {},
   "outputs": [
    {
     "data": {
      "text/plain": [
       "'\\n11. Escriba un programa Python que haga coincidir una palabra al final de una cadena, con puntuación opcional.\\n'"
      ]
     },
     "execution_count": 11,
     "metadata": {},
     "output_type": "execute_result"
    }
   ],
   "source": [
    "\"\"\"\n",
    "11. Escriba un programa Python que haga coincidir una palabra al final de una cadena, con puntuación opcional.\n",
    "\"\"\""
   ]
  },
  {
   "cell_type": "code",
   "execution_count": 117,
   "id": "b00db26c",
   "metadata": {},
   "outputs": [
    {
     "data": {
      "text/plain": [
       "['zurdo', 'aznar', 'azote', 'cortez']"
      ]
     },
     "execution_count": 117,
     "metadata": {},
     "output_type": "execute_result"
    }
   ],
   "source": [
    "\"\"\"\n",
    "12. Escriba un programa Python que coincida con una palabra que contenga 'z'.\n",
    "\n",
    "\"\"\"\n",
    "texto = \"asdasd abbb a-b-c a0 ab ab abb zurdo aznar azote cortez\"\n",
    "patron = re.compile(r'\\b\\w*z\\w*\\b')\n",
    "patron.findall(texto)"
   ]
  },
  {
   "cell_type": "code",
   "execution_count": 13,
   "id": "54e6deea",
   "metadata": {},
   "outputs": [
    {
     "data": {
      "text/plain": [
       "\"\\n13. Escriba un programa Python que coincida con una palabra que contenga 'z', no el inicio ni el final de la palabra.\\n\""
      ]
     },
     "execution_count": 13,
     "metadata": {},
     "output_type": "execute_result"
    }
   ],
   "source": [
    "\"\"\"\n",
    "13. Escriba un programa Python que coincida con una palabra que contenga 'z', no el inicio ni el final de la palabra.\n",
    "\"\"\"\n",
    "texto = \"asdasd abbb a-b-c a0 ab ab abb zurdo aznar azote cortez\"\n",
    "patron = re.compile(r'\\b\\w*z\\w*\\b')\n",
    "patron.findall(texto)"
   ]
  },
  {
   "cell_type": "code",
   "execution_count": 122,
   "id": "0fa77294",
   "metadata": {},
   "outputs": [
    {
     "data": {
      "text/plain": [
       "['asda_sd',\n",
       " 'abbb',\n",
       " 'a',\n",
       " 'b',\n",
       " 'c',\n",
       " 'a0',\n",
       " 'ab',\n",
       " 'ab',\n",
       " 'ab1b',\n",
       " 'zurdo',\n",
       " 'aznar',\n",
       " 'azote',\n",
       " 'cortez']"
      ]
     },
     "execution_count": 122,
     "metadata": {},
     "output_type": "execute_result"
    }
   ],
   "source": [
    "\"\"\"\n",
    "14. Escriba un programa Python para hacer coincidir una cadena que contenga solo letras mayúsculas y minúsculas, números y guiones bajos.\n",
    "\"\"\"\n",
    "texto = \"asda_sd abbb a-b-c a0 ab ab ab1b zurdo aznar azote cortez\"\n",
    "patron = re.compile(r'\\b(\\w+)\\b')\n",
    "patron.findall(texto)"
   ]
  },
  {
   "cell_type": "code",
   "execution_count": 15,
   "id": "aaedebf5",
   "metadata": {},
   "outputs": [
    {
     "data": {
      "text/plain": [
       "'\\n15. Escriba un programa Python que comience cada cadena con un número específico.\\n\\n\\n'"
      ]
     },
     "execution_count": 15,
     "metadata": {},
     "output_type": "execute_result"
    }
   ],
   "source": [
    "\"\"\"\n",
    "15. Escriba un programa Python que comience cada cadena con un número específico.\n",
    "\n",
    "\n",
    "\"\"\""
   ]
  },
  {
   "cell_type": "code",
   "execution_count": 16,
   "id": "8e4e465d",
   "metadata": {},
   "outputs": [
    {
     "data": {
      "text/plain": [
       "'\\n16. Escriba un programa Python para eliminar los ceros a la izquierda de una dirección IP.\\n'"
      ]
     },
     "execution_count": 16,
     "metadata": {},
     "output_type": "execute_result"
    }
   ],
   "source": [
    "\"\"\"\n",
    "16. Escriba un programa Python para eliminar los ceros a la izquierda de una dirección IP.\n",
    "\"\"\"\n",
    "texto = \"asda_sd abbb a-b-c a0 ab ab ab1b zurdo aznar azote cortez\"\n",
    "patron = re.compile(r'\\b(\\w+)\\b')\n",
    "patron.findall(texto)"
   ]
  },
  {
   "cell_type": "code",
   "execution_count": 17,
   "id": "7f3aeaf2",
   "metadata": {},
   "outputs": [
    {
     "data": {
      "text/plain": [
       "'\\n17. Escriba un programa Python para buscar un número al final de una cadena.\\n'"
      ]
     },
     "execution_count": 17,
     "metadata": {},
     "output_type": "execute_result"
    }
   ],
   "source": [
    "\"\"\"\n",
    "17. Escriba un programa Python para buscar un número al final de una cadena.\n",
    "\"\"\""
   ]
  },
  {
   "cell_type": "code",
   "execution_count": 18,
   "id": "e7bc6006",
   "metadata": {},
   "outputs": [
    {
     "data": {
      "text/plain": [
       "'\\n18. Escriba un programa Python para buscar números (0-9) de longitud entre 1 y 3 en una cadena determinada.\\n'"
      ]
     },
     "execution_count": 18,
     "metadata": {},
     "output_type": "execute_result"
    }
   ],
   "source": [
    "\"\"\"\n",
    "18. Escriba un programa Python para buscar números (0-9) de longitud entre 1 y 3 en una cadena determinada.\n",
    "\"\"\""
   ]
  },
  {
   "cell_type": "code",
   "execution_count": 128,
   "id": "a9135faa",
   "metadata": {},
   "outputs": [
    {
     "data": {
      "text/plain": [
       "['zorro', 'perro']"
      ]
     },
     "execution_count": 128,
     "metadata": {},
     "output_type": "execute_result"
    }
   ],
   "source": [
    "\"\"\"\n",
    "19. Escriba un programa Python para buscar cadenas literales dentro de una cadena.\n",
    "Texto de ejemplo: 'El veloz zorro marrón salta sobre el perro perezoso'.\n",
    "Palabras buscadas: 'zorro', 'perro', 'caballo'\n",
    "\"\"\"\n",
    "texto = 'El veloz zorro marrón salta sobre el perro perezoso'\n",
    "patron = re.compile(r'\\b(zorro|perro|caballo)\\b')\n",
    "patron.findall(texto)"
   ]
  },
  {
   "cell_type": "code",
   "execution_count": 130,
   "id": "ff278c2e",
   "metadata": {},
   "outputs": [
    {
     "data": {
      "text/plain": [
       "9"
      ]
     },
     "execution_count": 130,
     "metadata": {},
     "output_type": "execute_result"
    }
   ],
   "source": [
    "\"\"\"\n",
    "20. Escriba un programa Python para buscar una cadena literal en una cadena y \n",
    "también encontrar la ubicación dentro de la cadena original donde ocurre el patrón.\n",
    "Texto de ejemplo: 'El veloz zorro marrón salta sobre el perro perezoso'.\n",
    "Palabras buscadas: 'zorro'\n",
    "\"\"\"\n",
    "texto = 'El veloz zorro marrón salta sobre el perro perezoso'\n",
    "patron = re.compile(r'\\b(zorro)\\b')\n",
    "patron.search(texto).start()"
   ]
  },
  {
   "cell_type": "code",
   "execution_count": 22,
   "id": "070c24ec",
   "metadata": {},
   "outputs": [
    {
     "data": {
      "text/plain": [
       "'\\n21. Escriba un programa Python para encontrar las subcadenas dentro de una cadena.\\n'"
      ]
     },
     "execution_count": 22,
     "metadata": {},
     "output_type": "execute_result"
    }
   ],
   "source": [
    "\"\"\"\n",
    "21. Escriba un programa Python para encontrar las subcadenas dentro de una cadena.\n",
    "\"\"\"\n"
   ]
  },
  {
   "cell_type": "code",
   "execution_count": 23,
   "id": "bcf9d00a",
   "metadata": {},
   "outputs": [
    {
     "data": {
      "text/plain": [
       "'\\n22. Escriba un programa Python para encontrar la aparición y posición de subcadenas dentro de una cadena.\\n'"
      ]
     },
     "execution_count": 23,
     "metadata": {},
     "output_type": "execute_result"
    }
   ],
   "source": [
    "\"\"\"\n",
    "22. Escriba un programa Python para encontrar la aparición y posición de subcadenas dentro de una cadena.\n",
    "\"\"\""
   ]
  },
  {
   "cell_type": "code",
   "execution_count": 25,
   "id": "e0317ff9",
   "metadata": {},
   "outputs": [
    {
     "data": {
      "text/plain": [
       "'\\n23. Escriba un programa Python para reemplazar espacios en blanco con un guión bajo y viceversa.\\n'"
      ]
     },
     "execution_count": 25,
     "metadata": {},
     "output_type": "execute_result"
    }
   ],
   "source": [
    "\"\"\"\n",
    "23. Escriba un programa Python para reemplazar espacios en blanco con un guión bajo y viceversa.\n",
    "\"\"\""
   ]
  },
  {
   "cell_type": "code",
   "execution_count": 146,
   "id": "e78e71e8",
   "metadata": {},
   "outputs": [
    {
     "data": {
      "text/plain": [
       "['2023/05/01']"
      ]
     },
     "execution_count": 146,
     "metadata": {},
     "output_type": "execute_result"
    }
   ],
   "source": [
    "\"\"\"\n",
    "24. Escriba un programa Python para extraer año, mes y fecha de una URL.\n",
    "\"\"\"\n",
    "texto = \"www.blog.com/2023/05/01\"\n",
    "patron = re.compile(r'[0-9]{4}\\/[0-9]{2}\\/[0-9]{2}')\n",
    "patron.findall(texto)"
   ]
  },
  {
   "cell_type": "code",
   "execution_count": 161,
   "id": "e6bd9ac6",
   "metadata": {},
   "outputs": [
    {
     "name": "stdout",
     "output_type": "stream",
     "text": [
      "asdasds 01-12-1984\n"
     ]
    }
   ],
   "source": [
    "\"\"\"\n",
    "25. Escriba un programa Python para convertir una fecha de formato aaaa-mm-dd al formato dd-mm-aaaa.\n",
    "\"\"\"\n",
    "texto = \"asdasds 1984-12-01\"\n",
    "patron = re.compile(r'(\\d{4}).+(\\d{2}).+(\\d{2})')\n",
    "resultado = re.sub(patron,r'\\3-\\2-\\1',texto)\n",
    "print(resultado)"
   ]
  },
  {
   "cell_type": "code",
   "execution_count": 163,
   "id": "5d9d37e5",
   "metadata": {},
   "outputs": [
    {
     "name": "stdout",
     "output_type": "stream",
     "text": [
      "['Puerco']\n",
      "[]\n",
      "[]\n",
      "['Paco']\n"
     ]
    }
   ],
   "source": [
    "\"\"\"\n",
    "26. Escriba un programa Python para hacer coincidir si dos palabras de una lista de palabras comienzan con la letra 'P'.\n",
    "\"\"\"\n",
    "lista = [\"Puerco\",\"Coche\",\"moto\",\"Paco\"]\n",
    "\n",
    "def find_p(list_item):\n",
    "    patron = re.compile(r'\\b[P]\\w+\\b')\n",
    "    return patron.findall(list_item)\n",
    "\n",
    "for item in lista:\n",
    "    print(find_p(item))"
   ]
  },
  {
   "cell_type": "code",
   "execution_count": 169,
   "id": "dea81a69",
   "metadata": {},
   "outputs": [
    {
     "name": "stdout",
     "output_type": "stream",
     "text": [
      "['4', '9', '0', '8']\n"
     ]
    }
   ],
   "source": [
    "\"\"\"\n",
    "27. Escriba un programa Python para separar e imprimir los números en una cadena determinada.\n",
    "\n",
    "\"\"\"\n",
    "text = \"asdas4sfdfsd9sdfsdf0dsfsdf8\"\n",
    "patron = re.compile(r'[0-9]')\n",
    "print(patron.findall(text))"
   ]
  },
  {
   "cell_type": "code",
   "execution_count": 183,
   "id": "a1952020",
   "metadata": {},
   "outputs": [
    {
     "name": "stdout",
     "output_type": "stream",
     "text": [
      "['edad ', 'asa ', ' alarma ', 'estilo']\n"
     ]
    }
   ],
   "source": [
    "\"\"\"\n",
    "28. Escriba un programa Python para encontrar todas las palabras que comienzan con 'a' o 'e' en una cadena determinada.\n",
    "\"\"\"\n",
    "texto = \"edad coche casa moto alarma estilo\"\n",
    "patron=re.compile(\"\\s*[a|e]\\w+\\s*\")\n",
    "print(patron.findall(texto))"
   ]
  },
  {
   "cell_type": "code",
   "execution_count": 32,
   "id": "4869efb3",
   "metadata": {},
   "outputs": [
    {
     "data": {
      "text/plain": [
       "'\\n29. Escribe un programa Python para separar e imprimir los números y su posición en una cadena determinada.\\n'"
      ]
     },
     "execution_count": 32,
     "metadata": {},
     "output_type": "execute_result"
    }
   ],
   "source": [
    "\"\"\"\n",
    "29. Escribe un programa Python para separar e imprimir los números y su posición en una cadena determinada.\n",
    "\"\"\""
   ]
  },
  {
   "cell_type": "code",
   "execution_count": 34,
   "id": "8c045ee6",
   "metadata": {},
   "outputs": [
    {
     "data": {
      "text/plain": [
       "\"\\n30. Escriba un programa Python para abreviar 'Road' como 'Rd'. en una cadena dada.\\n\\n\""
      ]
     },
     "execution_count": 34,
     "metadata": {},
     "output_type": "execute_result"
    }
   ],
   "source": [
    "\"\"\"\n",
    "30. Escriba un programa Python para abreviar 'Road' como 'Rd'. en una cadena dada.\n",
    "\n",
    "\"\"\""
   ]
  },
  {
   "cell_type": "code",
   "execution_count": 35,
   "id": "62f19f50",
   "metadata": {},
   "outputs": [
    {
     "data": {
      "text/plain": [
       "'\\n31. Escriba un programa Python para reemplazar todas las apariciones de un espacio, coma o punto con dos puntos.\\n'"
      ]
     },
     "execution_count": 35,
     "metadata": {},
     "output_type": "execute_result"
    }
   ],
   "source": [
    "\"\"\"\n",
    "31. Escriba un programa Python para reemplazar todas las apariciones de un espacio, coma o punto con dos puntos.\n",
    "\"\"\""
   ]
  },
  {
   "cell_type": "code",
   "execution_count": 36,
   "id": "e22b3776",
   "metadata": {},
   "outputs": [
    {
     "data": {
      "text/plain": [
       "'\\n32. Escriba un programa Python para reemplazar un máximo de 2 apariciones de espacio, coma o punto con dos puntos.\\n'"
      ]
     },
     "execution_count": 36,
     "metadata": {},
     "output_type": "execute_result"
    }
   ],
   "source": [
    "\"\"\"\n",
    "32. Escriba un programa Python para reemplazar un máximo de 2 apariciones de espacio, coma o punto con dos puntos.\n",
    "\"\"\""
   ]
  },
  {
   "cell_type": "code",
   "execution_count": 37,
   "id": "4ba38d97",
   "metadata": {},
   "outputs": [
    {
     "data": {
      "text/plain": [
       "'\\n33. Escribe un programa Python para encontrar todas las palabras de cinco caracteres en una cadena.\\n'"
      ]
     },
     "execution_count": 37,
     "metadata": {},
     "output_type": "execute_result"
    }
   ],
   "source": [
    "\"\"\"\n",
    "33. Escribe un programa Python para encontrar todas las palabras de cinco caracteres en una cadena.\n",
    "\"\"\""
   ]
  },
  {
   "cell_type": "code",
   "execution_count": 39,
   "id": "90930392",
   "metadata": {},
   "outputs": [
    {
     "data": {
      "text/plain": [
       "'\\n34. Escriba un programa Python para encontrar las palabras de tres, cuatro y cinco caracteres en una cadena.\\n'"
      ]
     },
     "execution_count": 39,
     "metadata": {},
     "output_type": "execute_result"
    }
   ],
   "source": [
    "\"\"\"\n",
    "34. Escriba un programa Python para encontrar las palabras de tres, cuatro y cinco caracteres en una cadena.\n",
    "\"\"\""
   ]
  },
  {
   "cell_type": "code",
   "execution_count": 40,
   "id": "7463d73a",
   "metadata": {},
   "outputs": [
    {
     "data": {
      "text/plain": [
       "'\\n35. Escriba un programa Python para encontrar todas las palabras que tengan al menos 4 caracteres en una cadena\\n'"
      ]
     },
     "execution_count": 40,
     "metadata": {},
     "output_type": "execute_result"
    }
   ],
   "source": [
    "\"\"\"\n",
    "35. Escriba un programa Python para encontrar todas las palabras que tengan al menos 4 caracteres en una cadena\n",
    "\"\"\"\n"
   ]
  },
  {
   "cell_type": "code",
   "execution_count": 42,
   "id": "50f78ca2",
   "metadata": {},
   "outputs": [
    {
     "data": {
      "text/plain": [
       "'\\n36. Escriba un programa Python para convertir una cadena tipo camello en una cadena tipo serpiente.\\n'"
      ]
     },
     "execution_count": 42,
     "metadata": {},
     "output_type": "execute_result"
    }
   ],
   "source": [
    "\"\"\"\n",
    "36. Escriba un programa Python para convertir una cadena tipo camello en una cadena tipo serpiente.\n",
    "\"\"\""
   ]
  },
  {
   "cell_type": "code",
   "execution_count": 43,
   "id": "6fd30380",
   "metadata": {},
   "outputs": [
    {
     "data": {
      "text/plain": [
       "'\\n37. Escriba un programa en Python para convertir una cadena tipo serpiente en una cadena tipo camello.\\n'"
      ]
     },
     "execution_count": 43,
     "metadata": {},
     "output_type": "execute_result"
    }
   ],
   "source": [
    "\"\"\"\n",
    "37. Escriba un programa en Python para convertir una cadena tipo serpiente en una cadena tipo camello.\n",
    "\"\"\"\n"
   ]
  },
  {
   "cell_type": "code",
   "execution_count": 44,
   "id": "00e3bb1b",
   "metadata": {},
   "outputs": [
    {
     "data": {
      "text/plain": [
       "'\\n38. Escriba un programa Python para extraer valores entre comillas de una cadena.\\n\\n'"
      ]
     },
     "execution_count": 44,
     "metadata": {},
     "output_type": "execute_result"
    }
   ],
   "source": [
    "\"\"\"\n",
    "38. Escriba un programa Python para extraer valores entre comillas de una cadena.\n",
    "\n",
    "\"\"\""
   ]
  },
  {
   "cell_type": "code",
   "execution_count": 45,
   "id": "a2c4c783",
   "metadata": {},
   "outputs": [
    {
     "data": {
      "text/plain": [
       "'\\n39. Escriba un programa Python para eliminar múltiples espacios de una cadena.\\n\\n'"
      ]
     },
     "execution_count": 45,
     "metadata": {},
     "output_type": "execute_result"
    }
   ],
   "source": [
    "\"\"\"\n",
    "39. Escriba un programa Python para eliminar múltiples espacios de una cadena.\n",
    "\n",
    "\"\"\""
   ]
  },
  {
   "cell_type": "code",
   "execution_count": 46,
   "id": "73afe10f",
   "metadata": {},
   "outputs": [
    {
     "data": {
      "text/plain": [
       "'\\n40. Escriba un programa Python para eliminar todos los espacios en blanco de una cadena.\\n\\n'"
      ]
     },
     "execution_count": 46,
     "metadata": {},
     "output_type": "execute_result"
    }
   ],
   "source": [
    "\"\"\"\n",
    "40. Escriba un programa Python para eliminar todos los espacios en blanco de una cadena.\n",
    "\n",
    "\"\"\""
   ]
  },
  {
   "cell_type": "code",
   "execution_count": 47,
   "id": "9a4e681d",
   "metadata": {},
   "outputs": [
    {
     "data": {
      "text/plain": [
       "'\\n41. Escriba un programa Python para eliminar todo excepto los caracteres alfanuméricos de una cadena.\\n'"
      ]
     },
     "execution_count": 47,
     "metadata": {},
     "output_type": "execute_result"
    }
   ],
   "source": [
    "\"\"\"\n",
    "41. Escriba un programa Python para eliminar todo excepto los caracteres alfanuméricos de una cadena.\n",
    "\"\"\""
   ]
  },
  {
   "cell_type": "code",
   "execution_count": 48,
   "id": "4617e83a",
   "metadata": {},
   "outputs": [
    {
     "data": {
      "text/plain": [
       "'\\n42. Escriba un programa Python para buscar URL en una cadena.\\n\\n'"
      ]
     },
     "execution_count": 48,
     "metadata": {},
     "output_type": "execute_result"
    }
   ],
   "source": [
    "\"\"\"\n",
    "42. Escriba un programa Python para buscar URL en una cadena.\n",
    "\n",
    "\"\"\""
   ]
  },
  {
   "cell_type": "code",
   "execution_count": 49,
   "id": "35e26047",
   "metadata": {},
   "outputs": [
    {
     "data": {
      "text/plain": [
       "'\\n43. Escriba un programa Python para dividir una cadena en letras mayúsculas.\\n\\n'"
      ]
     },
     "execution_count": 49,
     "metadata": {},
     "output_type": "execute_result"
    }
   ],
   "source": [
    "\"\"\"\n",
    "43. Escriba un programa Python para dividir una cadena en letras mayúsculas.\n",
    "\n",
    "\"\"\""
   ]
  },
  {
   "cell_type": "code",
   "execution_count": 50,
   "id": "c7646b6f",
   "metadata": {},
   "outputs": [
    {
     "data": {
      "text/plain": [
       "'\\n44. Escriba un programa Python para realizar reemplazos de cadenas que no distingan entre mayúsculas y minúsculas.\\n'"
      ]
     },
     "execution_count": 50,
     "metadata": {},
     "output_type": "execute_result"
    }
   ],
   "source": [
    "\"\"\"\n",
    "44. Escriba un programa Python para realizar reemplazos de cadenas que no distingan entre mayúsculas y minúsculas.\n",
    "\"\"\""
   ]
  },
  {
   "cell_type": "code",
   "execution_count": 51,
   "id": "11437708",
   "metadata": {},
   "outputs": [
    {
     "data": {
      "text/plain": [
       "'\\n45. Escriba un programa Python para eliminar secuencias de escape ANSI de una cadena.\\n\\n'"
      ]
     },
     "execution_count": 51,
     "metadata": {},
     "output_type": "execute_result"
    }
   ],
   "source": [
    "\"\"\"\n",
    "45. Escriba un programa Python para eliminar secuencias de escape ANSI de una cadena.\n",
    "\n",
    "\"\"\""
   ]
  },
  {
   "cell_type": "code",
   "execution_count": 53,
   "id": "033f2c2b",
   "metadata": {},
   "outputs": [
    {
     "data": {
      "text/plain": [
       "'\\n46. \\u200b\\u200bEscribe un programa Python para encontrar todos los adverbios y sus posiciones en una oración determinada.\\nTexto de muestra: \"Claramente, no tiene excusa para tal comportamiento\".\\n\\n'"
      ]
     },
     "execution_count": 53,
     "metadata": {},
     "output_type": "execute_result"
    }
   ],
   "source": [
    "\"\"\"\n",
    "46. ​​Escribe un programa Python para encontrar todos los adverbios y sus posiciones en una oración determinada.\n",
    "Texto de muestra: \"Claramente, no tiene excusa para tal comportamiento\".\n",
    "\n",
    "\"\"\""
   ]
  },
  {
   "cell_type": "code",
   "execution_count": 54,
   "id": "f4a757eb",
   "metadata": {},
   "outputs": [
    {
     "data": {
      "text/plain": [
       "'\\n47. Escriba un programa Python para dividir una cadena con múltiples delimitadores.\\n\\nNota: un delimitador es una secuencia de uno o más caracteres que se utilizan \\npara especificar el límite entre regiones separadas e independientes en texto sin formato u otros flujos de datos. Un ejemplo de delimitador es el carácter de coma, \\nque actúa como delimitador de campo en una secuencia de valores separados por comas.\\n\\n'"
      ]
     },
     "execution_count": 54,
     "metadata": {},
     "output_type": "execute_result"
    }
   ],
   "source": [
    "\"\"\"\n",
    "47. Escriba un programa Python para dividir una cadena con múltiples delimitadores.\n",
    "\n",
    "Nota: un delimitador es una secuencia de uno o más caracteres que se utilizan \n",
    "para especificar el límite entre regiones separadas e independientes en texto sin formato u otros flujos de datos. Un ejemplo de delimitador es el carácter de coma, \n",
    "que actúa como delimitador de campo en una secuencia de valores separados por comas.\n",
    "\n",
    "\"\"\""
   ]
  },
  {
   "cell_type": "code",
   "execution_count": 55,
   "id": "fcd779f2",
   "metadata": {},
   "outputs": [
    {
     "data": {
      "text/plain": [
       "'\\n48. Escriba un programa en Python para verificar un decimal con una precisión de 2.\\n\\n'"
      ]
     },
     "execution_count": 55,
     "metadata": {},
     "output_type": "execute_result"
    }
   ],
   "source": [
    "\"\"\"\n",
    "48. Escriba un programa en Python para verificar un decimal con una precisión de 2.\n",
    "\n",
    "\"\"\""
   ]
  },
  {
   "cell_type": "code",
   "execution_count": 56,
   "id": "a334cc76",
   "metadata": {},
   "outputs": [
    {
     "data": {
      "text/plain": [
       "'\\n49. Escriba un programa Python para eliminar palabras de una cadena de longitud entre 1 y un número determinado.\\n'"
      ]
     },
     "execution_count": 56,
     "metadata": {},
     "output_type": "execute_result"
    }
   ],
   "source": [
    "\"\"\"\n",
    "49. Escriba un programa Python para eliminar palabras de una cadena de longitud entre 1 y un número determinado.\n",
    "\"\"\""
   ]
  },
  {
   "cell_type": "code",
   "execution_count": 57,
   "id": "0f4d5e18",
   "metadata": {},
   "outputs": [
    {
     "data": {
      "text/plain": [
       "'\\n50. Escriba un programa Python para eliminar el área de paréntesis en una cadena.\\nDatos de muestra: [\"ejemplo (.com)\", \"w3resource\", \"github (.com)\", \"stackoverflow (.com)\"] Resultado esperado\\n:\\nejemplo\\nw3resource\\ngithub\\nstackoverflow\\n'"
      ]
     },
     "execution_count": 57,
     "metadata": {},
     "output_type": "execute_result"
    }
   ],
   "source": [
    "\"\"\"\n",
    "50. Escriba un programa Python para eliminar el área de paréntesis en una cadena.\n",
    "Datos de muestra: [\"ejemplo (.com)\", \"w3resource\", \"github (.com)\", \"stackoverflow (.com)\"] Resultado esperado\n",
    ":\n",
    "ejemplo\n",
    "w3resource\n",
    "github\n",
    "stackoverflow\n",
    "\"\"\""
   ]
  },
  {
   "cell_type": "code",
   "execution_count": 58,
   "id": "893f5757",
   "metadata": {},
   "outputs": [
    {
     "data": {
      "text/plain": [
       "'\\n51. Escriba un programa Python para insertar espacios entre palabras que comiencen con letras mayúsculas.\\n'"
      ]
     },
     "execution_count": 58,
     "metadata": {},
     "output_type": "execute_result"
    }
   ],
   "source": [
    "\"\"\"\n",
    "51. Escriba un programa Python para insertar espacios entre palabras que comiencen con letras mayúsculas.\n",
    "\"\"\""
   ]
  },
  {
   "cell_type": "code",
   "execution_count": 60,
   "id": "49f25f1e",
   "metadata": {},
   "outputs": [
    {
     "data": {
      "text/plain": [
       "'\\n52. Escriba un programa Python que lea una expresión dada y la evalúe.\\nTérminos y condiciones:\\nLa expresión consta de valores numéricos, operadores y paréntesis, y termina con \\'=\".\\nLos operadores incluyen +, -, *, / donde, representa, suma, resta, multiplicación y división.\\nCuando dos operadores tienen la misma precedencia, se aplican de izquierda a derecha.\\nPuedes suponer que no hay división por cero.\\nTodos los cálculos se realizan como números enteros y después del punto decimal se debe truncar. La longitud de la expresión no excederá 100.\\n-1 ? 10 9 = resultados intermedios del cálculo = 10 9\\n'"
      ]
     },
     "execution_count": 60,
     "metadata": {},
     "output_type": "execute_result"
    }
   ],
   "source": [
    "\"\"\"\n",
    "52. Escriba un programa Python que lea una expresión dada y la evalúe.\n",
    "Términos y condiciones:\n",
    "La expresión consta de valores numéricos, operadores y paréntesis, y termina con '=\".\n",
    "Los operadores incluyen +, -, *, / donde, representa, suma, resta, multiplicación y división.\n",
    "Cuando dos operadores tienen la misma precedencia, se aplican de izquierda a derecha.\n",
    "Puedes suponer que no hay división por cero.\n",
    "Todos los cálculos se realizan como números enteros y después del punto decimal se debe truncar. La longitud de la expresión no excederá 100.\n",
    "-1 ? 10 9 = resultados intermedios del cálculo = 10 9\n",
    "\"\"\""
   ]
  },
  {
   "cell_type": "code",
   "execution_count": 61,
   "id": "5c3c917e",
   "metadata": {},
   "outputs": [
    {
     "data": {
      "text/plain": [
       "'\\n52. Escriba un programa Python que lea una expresión dada y la evalúe.\\nTérminos y condiciones:\\nLa expresión consta de valores numéricos, operadores y paréntesis, y termina con \\'=\".\\nLos operadores incluyen +, -, *, / donde, representa, suma, resta, multiplicación y división.\\nCuando dos operadores tienen la misma precedencia, se aplican de izquierda a derecha.\\nPuedes suponer que no hay división por cero.\\nTodos los cálculos se realizan como números enteros y después del punto decimal se debe truncar. La longitud de la expresión no excederá 100.\\n-1 ? 10 9 = resultados intermedios del cálculo = 10 9\\n'"
      ]
     },
     "execution_count": 61,
     "metadata": {},
     "output_type": "execute_result"
    }
   ],
   "source": [
    "\"\"\"\n",
    "52. Escriba un programa Python que lea una expresión dada y la evalúe.\n",
    "Términos y condiciones:\n",
    "La expresión consta de valores numéricos, operadores y paréntesis, y termina con '=\".\n",
    "Los operadores incluyen +, -, *, / donde, representa, suma, resta, multiplicación y división.\n",
    "Cuando dos operadores tienen la misma precedencia, se aplican de izquierda a derecha.\n",
    "Puedes suponer que no hay división por cero.\n",
    "Todos los cálculos se realizan como números enteros y después del punto decimal se debe truncar. La longitud de la expresión no excederá 100.\n",
    "-1 ? 10 9 = resultados intermedios del cálculo = 10 9\n",
    "\"\"\""
   ]
  },
  {
   "cell_type": "code",
   "execution_count": 62,
   "id": "dc4e3a59",
   "metadata": {},
   "outputs": [
    {
     "data": {
      "text/plain": [
       "'\\n53. Escriba un programa Python para eliminar subcadenas en minúsculas de una cadena determinada.\\n'"
      ]
     },
     "execution_count": 62,
     "metadata": {},
     "output_type": "execute_result"
    }
   ],
   "source": [
    "\"\"\"\n",
    "53. Escriba un programa Python para eliminar subcadenas en minúsculas de una cadena determinada.\n",
    "\"\"\""
   ]
  },
  {
   "cell_type": "code",
   "execution_count": 63,
   "id": "3a28c489",
   "metadata": {},
   "outputs": [
    {
     "data": {
      "text/plain": [
       "'\\n54. Escriba un programa Python para concatenar los números consecutivos en una cadena determinada.\\nCadena original:\\nIngrese en 1 20 Kearny Street. El mostrador de seguridad puede indicarle el piso 1 al 6. Tenga lista su identificación.\\nDespués de concatenar los números consecutivos en dicha cadena:\\nIngrese en 120 Kearny Street. El mostrador de seguridad puede indicarle el piso 16. Tenga lista su identificación.\\n'"
      ]
     },
     "execution_count": 63,
     "metadata": {},
     "output_type": "execute_result"
    }
   ],
   "source": [
    "\"\"\"\n",
    "54. Escriba un programa Python para concatenar los números consecutivos en una cadena determinada.\n",
    "Cadena original:\n",
    "Ingrese en 1 20 Kearny Street. El mostrador de seguridad puede indicarle el piso 1 al 6. Tenga lista su identificación.\n",
    "Después de concatenar los números consecutivos en dicha cadena:\n",
    "Ingrese en 120 Kearny Street. El mostrador de seguridad puede indicarle el piso 16. Tenga lista su identificación.\n",
    "\"\"\""
   ]
  },
  {
   "cell_type": "code",
   "execution_count": 64,
   "id": "9fe558d3",
   "metadata": {},
   "outputs": [
    {
     "data": {
      "text/plain": [
       "'\\n55. Escriba un programa Python para convertir una cadena determinada en formato serpiente.\\nResultado de muestra:\\njava-script\\ngd-script\\npor cierto...-¿cómo-*-haces*-llamas-a-ese-estilo-de-nombramiento?-¿caso-de-serpiente?\\n'"
      ]
     },
     "execution_count": 64,
     "metadata": {},
     "output_type": "execute_result"
    }
   ],
   "source": [
    "\"\"\"\n",
    "55. Escriba un programa Python para convertir una cadena determinada en formato serpiente.\n",
    "Resultado de muestra:\n",
    "java-script\n",
    "gd-script\n",
    "por cierto...-¿cómo-*-haces*-llamas-a-ese-estilo-de-nombramiento?-¿caso-de-serpiente?\n",
    "\"\"\""
   ]
  },
  {
   "cell_type": "code",
   "execution_count": 65,
   "id": "1307e2af",
   "metadata": {},
   "outputs": [
    {
     "data": {
      "text/plain": [
       "'\\n56. Escriba un programa Python que tome cualquier número de objetos iterables u objetos con una propiedad de longitud y devuelva el más largo.\\nResultado de muestra:\\nNaranja\\n[1, 2, 3, 4, 5]\\nJava\\nPython\\n'"
      ]
     },
     "execution_count": 65,
     "metadata": {},
     "output_type": "execute_result"
    }
   ],
   "source": [
    "\"\"\"\n",
    "56. Escriba un programa Python que tome cualquier número de objetos iterables u objetos con una propiedad de longitud y devuelva el más largo.\n",
    "Resultado de muestra:\n",
    "Naranja\n",
    "[1, 2, 3, 4, 5]\n",
    "Java\n",
    "Python\n",
    "\"\"\""
   ]
  },
  {
   "cell_type": "code",
   "execution_count": 66,
   "id": "38fd16eb",
   "metadata": {},
   "outputs": [
    {
     "data": {
      "text/plain": [
       "'\\n57. Escriba un programa en Python que verifique si una palabra comienza y termina con una vocal en una cadena determinada. Devuelve verdadero si una palabra coincide con la condición; de lo contrario, devuelve falso.\\nDatos de muestra:\\n(\"Rojo Naranja Blanco\") -> Verdadero\\n(\"Rojo Blanco Negro\") -> Falso\\n(\"abcd dkise eosksu\") -> Verdadero\\n'"
      ]
     },
     "execution_count": 66,
     "metadata": {},
     "output_type": "execute_result"
    }
   ],
   "source": [
    "\"\"\"\n",
    "57. Escriba un programa en Python que verifique si una palabra comienza y termina con una vocal en una cadena determinada. Devuelve verdadero si una palabra coincide con la condición; de lo contrario, devuelve falso.\n",
    "Datos de muestra:\n",
    "(\"Rojo Naranja Blanco\") -> Verdadero\n",
    "(\"Rojo Blanco Negro\") -> Falso\n",
    "(\"abcd dkise eosksu\") -> Verdadero\n",
    "\"\"\""
   ]
  },
  {
   "cell_type": "code",
   "execution_count": 67,
   "id": "8b6e1207",
   "metadata": {},
   "outputs": [
    {
     "data": {
      "text/plain": [
       "'\\n58. Escribe un programa en Python que tome una cadena con algunas palabras. Para dos palabras consecutivas en dicha cadena, verifique si la primera palabra termina con una vocal y la siguiente comienza con una vocal. Si el programa cumple la condición, devuelve verdadero; en caso contrario, falso. Sólo se permite un espacio entre las palabras.\\nDatos de muestra:\\n(\"Estos ejercicios se pueden utilizar para practicar\") -> Verdadero\\n(\"Los siguientes ejercicios deben eliminarse para practicar\") -> Falso\\n(\"Utilizo estas historias en mi clase\") -> Verdadero\\n'"
      ]
     },
     "execution_count": 67,
     "metadata": {},
     "output_type": "execute_result"
    }
   ],
   "source": [
    "\"\"\"\n",
    "58. Escribe un programa en Python que tome una cadena con algunas palabras. Para dos palabras consecutivas en dicha cadena, verifique si la primera palabra termina con una vocal y la siguiente comienza con una vocal. Si el programa cumple la condición, devuelve verdadero; en caso contrario, falso. Sólo se permite un espacio entre las palabras.\n",
    "Datos de muestra:\n",
    "(\"Estos ejercicios se pueden utilizar para practicar\") -> Verdadero\n",
    "(\"Los siguientes ejercicios deben eliminarse para practicar\") -> Falso\n",
    "(\"Utilizo estas historias en mi clase\") -> Verdadero\n",
    "\"\"\""
   ]
  },
  {
   "cell_type": "code",
   "execution_count": 184,
   "id": "ecf38b9e",
   "metadata": {},
   "outputs": [
    {
     "data": {
      "text/plain": [
       "'\\nTarea\\n\\nTienes una cadena de prueba.\\nSu tarea es escribir una expresión regular que coincida utilizando las siguientes condiciones:\\n\\n - Debe comenzar con o más dígitos.\\n - Después de eso, debería tener o más letras mayúsculas.\\n - debe terminar con o más letras minúsculas.\\n\\nNota\\n\\nEste es un desafío exclusivo de expresiones regulares. No es necesario que escriba ningún código.\\nTienes que completar el patrón de expresiones regulares en el espacio en blanco (_________).\\n\\n'"
      ]
     },
     "execution_count": 184,
     "metadata": {},
     "output_type": "execute_result"
    }
   ],
   "source": [
    "\"\"\"\n",
    "Tarea\n",
    "\n",
    "Tienes una cadena de prueba.\n",
    "Su tarea es escribir una expresión regular que coincida utilizando las siguientes condiciones:\n",
    "\n",
    " - Debe comenzar con o más dígitos.\n",
    " - Después de eso, debería tener o más letras mayúsculas.\n",
    " - debe terminar con o más letras minúsculas.\n",
    "\n",
    "Nota\n",
    "\n",
    "Este es un desafío exclusivo de expresiones regulares. No es necesario que escriba ningún código.\n",
    "Tienes que completar el patrón de expresiones regulares en el espacio en blanco (_________).\n",
    "\n",
    "\"\"\""
   ]
  },
  {
   "cell_type": "code",
   "execution_count": 206,
   "id": "da84874a",
   "metadata": {},
   "outputs": [
    {
     "name": "stdout",
     "output_type": "stream",
     "text": [
      "[' 1Mnn ']\n"
     ]
    }
   ],
   "source": [
    "import re\n",
    "texto = \"asda 1Mnn fgdfg\"\n",
    "\n",
    "patron = re.compile(r'\\s\\d*[A-Z]*[a-z]*\\s')\n",
    "print(patron.findall(texto))"
   ]
  },
  {
   "cell_type": "code",
   "execution_count": 207,
   "id": "14bd8125",
   "metadata": {},
   "outputs": [],
   "source": [
    "Regex_Pattern = r'\\s\\d*[A-Z]*[a-z]*\\s'"
   ]
  },
  {
   "cell_type": "code",
   "execution_count": null,
   "id": "71ae20ed",
   "metadata": {},
   "outputs": [],
   "source": [
    "print(str(bool(re.search(Regex_Pattern, \"1Qa\"))).lower())"
   ]
  },
  {
   "cell_type": "code",
   "execution_count": 208,
   "id": "fcb66532",
   "metadata": {},
   "outputs": [],
   "source": [
    "texto = \"\"\"\n",
    "<a href=\"/boe/dias/2023/09/22/pdfs/BOE-A-2023-19820.pdf\" title=\"PDF firmado BOE-A-2023-19820\">PDF (BOE-A-2023-19820 - 2 <abbr title=\"páginas\">págs.</abbr> - 202 <abbr title=\"kilobytes\">KB</abbr>)</a>\n",
    "<a href=\"/boe/dias/2023/09/22/pdfs/BOE-A-2023-19821.pdf\" title=\"PDF firmado BOE-A-2023-19821\">PDF (BOE-A-2023-19821 - 2 <abbr title=\"páginas\">págs.</abbr> - 215 <abbr title=\"kilobytes\">KB</abbr>)</a>\n",
    "<a href=\"/boe/dias/2023/09/22/pdfs/BOE-A-2023-19822.pdf\" title=\"PDF firmado BOE-A-2023-19822\">PDF (BOE-A-2023-19822 - 2 <abbr title=\"páginas\">págs.</abbr> - 210 <abbr title=\"kilobytes\">KB</abbr>)</a>\n",
    "<a href=\"/boe/dias/2023/09/22/pdfs/BOE-A-2023-19823.pdf\" title=\"PDF firmado BOE-A-2023-19823\">PDF (BOE-A-2023-19823 - 2 <agithubbbr title=\"páginas\">págs.</abbr> - 204 <abbr title=\"kilobytes\">KB</abbr>)</a>\n",
    "<a href=\"/boe/dias/2023/09/22/pdfs/BOE-A-2023-19824.pdf\" title=\"PDF firmado BOE-A-2023-19824\">PDF (BOE-A-2023-19824 - 11 <abbr title=\"páginas\">págs.</abbr> - 474 <abbr title=\"kilobytes\">KB</abbr>)</a>\n",
    "\"\"\""
   ]
  },
  {
   "cell_type": "code",
   "execution_count": 217,
   "id": "1b0487d9",
   "metadata": {},
   "outputs": [],
   "source": [
    "import re\n",
    "\n",
    "patron = re.compile(r'/boe/dias/2023/09/22/pdfs/.+pdf')"
   ]
  },
  {
   "cell_type": "code",
   "execution_count": 218,
   "id": "5a04381c",
   "metadata": {},
   "outputs": [
    {
     "name": "stdout",
     "output_type": "stream",
     "text": [
      "['/boe/dias/2023/09/22/pdfs/BOE-A-2023-19820.pdf', '/boe/dias/2023/09/22/pdfs/BOE-A-2023-19821.pdf', '/boe/dias/2023/09/22/pdfs/BOE-A-2023-19822.pdf', '/boe/dias/2023/09/22/pdfs/BOE-A-2023-19823.pdf', '/boe/dias/2023/09/22/pdfs/BOE-A-2023-19824.pdf']\n"
     ]
    }
   ],
   "source": [
    "print(patron.findall(texto))"
   ]
  },
  {
   "cell_type": "code",
   "execution_count": 220,
   "id": "107fb3ad",
   "metadata": {},
   "outputs": [
    {
     "name": "stdout",
     "output_type": "stream",
     "text": [
      "['BOE-A-2023-19820.pdf', 'BOE-A-2023-19821.pdf', 'BOE-A-2023-19822.pdf', 'BOE-A-2023-19823.pdf', 'BOE-A-2023-19824.pdf']\n"
     ]
    }
   ],
   "source": [
    "patron = re.compile(r\"BOE-[A-Z]-\\d{4}-\\d{5}.pdf\")\n",
    "print(patron.findall(texto))"
   ]
  },
  {
   "cell_type": "code",
   "execution_count": 224,
   "id": "1c716484",
   "metadata": {},
   "outputs": [],
   "source": [
    "def test():\n",
    "    return \"a\",1,5,\"z\",2,3"
   ]
  },
  {
   "cell_type": "code",
   "execution_count": 227,
   "id": "caf5175f",
   "metadata": {},
   "outputs": [
    {
     "name": "stdout",
     "output_type": "stream",
     "text": [
      "('a', 1, 5, 'z', 2, 3)\n"
     ]
    }
   ],
   "source": [
    "print(test())"
   ]
  },
  {
   "cell_type": "code",
   "execution_count": 228,
   "id": "c629aecb",
   "metadata": {},
   "outputs": [],
   "source": [
    "texto = \"IVAN PEREZ GOMEZ IVAN JIMENEZ SUAREZ\""
   ]
  },
  {
   "cell_type": "code",
   "execution_count": 229,
   "id": "5e56d772",
   "metadata": {},
   "outputs": [],
   "source": [
    "patron = re.compile(\"IVAN\")"
   ]
  },
  {
   "cell_type": "code",
   "execution_count": 236,
   "id": "e0159770",
   "metadata": {},
   "outputs": [
    {
     "name": "stdout",
     "output_type": "stream",
     "text": [
      "['IVAN', 'IVAN']\n"
     ]
    }
   ],
   "source": [
    "print(patron.findall(texto))"
   ]
  },
  {
   "cell_type": "code",
   "execution_count": 234,
   "id": "6b6563f9",
   "metadata": {},
   "outputs": [
    {
     "data": {
      "text/plain": [
       "-1"
      ]
     },
     "execution_count": 234,
     "metadata": {},
     "output_type": "execute_result"
    }
   ],
   "source": [
    "\"asdadsa IVAN\".find(\"IVAN SUAREZ IVAN TESTI\")"
   ]
  },
  {
   "cell_type": "code",
   "execution_count": null,
   "id": "105c444b",
   "metadata": {},
   "outputs": [],
   "source": [
    "texto = \"ANA PEREZ GUTIERREZ JIMENEZ CASAS SUAREZ GUTIERREZ SANCHEZ GONZALEZ TETES IVAN\""
   ]
  },
  {
   "cell_type": "code",
   "execution_count": 241,
   "id": "89e40e8e",
   "metadata": {},
   "outputs": [
    {
     "name": "stdout",
     "output_type": "stream",
     "text": [
      "No se encontró la combinación de apellidos y nombre en el texto.\n"
     ]
    }
   ],
   "source": [
    "import re\n",
    "\n",
    "def encontrar_nombre_apellidos_en_texto(apellido1, apellido2, nombre, texto):\n",
    "    # Patrón de búsqueda flexible para la combinación de apellidos y nombre\n",
    "    patron = r\"\\b\" + re.escape(apellido1) + r\"\\s+\" + re.escape(apellido2) + r\"\\s+\" + re.escape(nombre) + r\"\\b\"\n",
    "    \n",
    "    # Busca el patrón en el texto\n",
    "    coincidencias = re.search(patron, texto, re.IGNORECASE)\n",
    "    \n",
    "    if coincidencias:\n",
    "        return \"Se encontró la combinación de apellidos y nombre en el texto.\"\n",
    "    else:\n",
    "        return \"No se encontró la combinación de apellidos y nombre en el texto.\"\n",
    "\n",
    "# Cadena de texto\n",
    "texto = \"ANA PEREZ GUTIERREZ JIMENEZ CASAS SUAREZ GUTIERREZ SANCHEZ GONZALEZ TETES IVAN\"\n",
    "\n",
    "# Llama a la función para buscar tus apellidos y nombre en el texto\n",
    "resultado = encontrar_nombre_apellidos_en_texto(\"GUTIERREZ\", \"GONZALEZ\", \"IVAN\", texto)\n",
    "print(resultado)"
   ]
  },
  {
   "cell_type": "code",
   "execution_count": 242,
   "id": "53ffc95b",
   "metadata": {},
   "outputs": [
    {
     "name": "stdout",
     "output_type": "stream",
     "text": [
      "ANA PEREZ Apellido1 Apellido2 Nombre\n"
     ]
    }
   ],
   "source": [
    "import re\n",
    "\n",
    "def sustituir_nombre_apellidos(texto):\n",
    "    # Patrón de búsqueda para apellidos y nombre\n",
    "    patron = r\"\\bGUTIERREZ\\b.*\\bGONZALEZ\\b.*\\bIVAN\\b\"\n",
    "    \n",
    "    # Cadena de reemplazo (puedes cambiarla según tus necesidades)\n",
    "    reemplazo = \"Apellido1 Apellido2 Nombre\"\n",
    "    \n",
    "    # Realiza la sustitución del patrón en el texto\n",
    "    resultado = re.sub(patron, reemplazo, texto, flags=re.IGNORECASE)\n",
    "    \n",
    "    return resultado\n",
    "\n",
    "# Cadena de texto\n",
    "texto = \"ANA PEREZ GUTIERREZ JIMENEZ CASAS SUAREZ GUTIERREZ SANCHEZ GONZALEZ TETES IVAN\"\n",
    "\n",
    "# Llama a la función para realizar la sustitución\n",
    "texto_modificado = sustituir_nombre_apellidos(texto)\n",
    "print(texto_modificado)"
   ]
  },
  {
   "cell_type": "code",
   "execution_count": 243,
   "id": "cba1b784",
   "metadata": {},
   "outputs": [
    {
     "name": "stdout",
     "output_type": "stream",
     "text": [
      "Se encontró tu nombre y apellidos en el texto.\n"
     ]
    }
   ],
   "source": [
    "import re\n",
    "\n",
    "def encontrar_nombre_apellidos(texto):\n",
    "    # Patrón de búsqueda para apellidos y nombre\n",
    "    patron = r\"\\bGUTIERREZ\\b.*\\bGONZALEZ\\b.*\\bIVAN\\b\"\n",
    "\n",
    "    # Busca el patrón en el texto\n",
    "    coincidencias = re.search(patron, texto, re.IGNORECASE)\n",
    "    \n",
    "    if coincidencias:\n",
    "        return \"Se encontró tu nombre y apellidos en el texto.\"\n",
    "    else:\n",
    "        return \"No se encontró tu nombre y apellidos en el texto.\"\n",
    "\n",
    "# Cadena de texto\n",
    "texto = \"ANA PEREZ GUTIERREZ JIMENEZ CASAS SUAREZ GUTIERREZ SANCHEZ GONZALEZ TETES IVAN\"\n",
    "\n",
    "# Llama a la función para buscar tus apellidos y nombre\n",
    "resultado = encontrar_nombre_apellidos(texto)\n",
    "print(resultado)"
   ]
  },
  {
   "cell_type": "code",
   "execution_count": 270,
   "id": "a94c23d6",
   "metadata": {},
   "outputs": [
    {
     "name": "stdout",
     "output_type": "stream",
     "text": [
      "No se encontró la combinación de apellidos y nombre en el texto.\n"
     ]
    }
   ],
   "source": [
    "import re\n",
    "\n",
    "def encontrar_nombre_apellidos_en_texto(apellido1, apellido2, nombre, texto):\n",
    "    # Patrón de búsqueda flexible para la combinación de apellidos y nombre\n",
    "    patron = rf\"\\b{apellido1}\\b.*\\b{apellido2}\\b.*\\b{nombre}\\b\"\n",
    "    \n",
    "    # Busca el patrón en el texto\n",
    "    coincidencias = re.search(patron, texto, re.IGNORECASE)\n",
    "    \n",
    "    if coincidencias:\n",
    "        return \"Se encontró la combinación de apellidos y nombre en el texto.\"\n",
    "    else:\n",
    "        return \"No se encontró la combinación de apellidos y nombre en el texto.\"\n",
    "\n",
    "# Cadena de texto\n",
    "texto = \"ANA PEREZ IVAN JIMENEZ CASAS SUAREZ GUTIERREZ SANCHEZ GONZALEZ TETES\"\n",
    "\n",
    "# Llama a la función para buscar tus apellidos y nombre en el texto\n",
    "resultado = encontrar_nombre_apellidos_en_texto(\"GUTIERREZ\", \"GONZALEZ\", \"IVAN\", texto)\n",
    "print(resultado)"
   ]
  },
  {
   "cell_type": "code",
   "execution_count": 248,
   "id": "410a6b2e",
   "metadata": {},
   "outputs": [
    {
     "ename": "NameError",
     "evalue": "name 'r' is not defined",
     "output_type": "error",
     "traceback": [
      "\u001b[0;31m---------------------------------------------------------------------------\u001b[0m",
      "\u001b[0;31mNameError\u001b[0m                                 Traceback (most recent call last)",
      "Cell \u001b[0;32mIn[248], line 2\u001b[0m\n\u001b[1;32m      1\u001b[0m var \u001b[38;5;241m=\u001b[39m \u001b[38;5;124m\"\u001b[39m\u001b[38;5;130;01m\\a\u001b[39;00m\u001b[38;5;124msda\u001b[39m\u001b[38;5;124m\"\u001b[39m\n\u001b[0;32m----> 2\u001b[0m var2 \u001b[38;5;241m=\u001b[39m r\u001b[38;5;241m+\u001b[39mvar\n",
      "\u001b[0;31mNameError\u001b[0m: name 'r' is not defined"
     ]
    }
   ],
   "source": [
    "var = \"\\asda\"\n",
    "var2 = r+var\n"
   ]
  },
  {
   "cell_type": "code",
   "execution_count": 249,
   "id": "6c1ed7ab",
   "metadata": {},
   "outputs": [
    {
     "name": "stdout",
     "output_type": "stream",
     "text": [
      "sadas\n"
     ]
    }
   ],
   "source": [
    "uno = \"sadas\"\n",
    "a = f'''{uno}'''\n",
    "print(a)"
   ]
  },
  {
   "cell_type": "code",
   "execution_count": 254,
   "id": "4b78d5a3",
   "metadata": {},
   "outputs": [
    {
     "data": {
      "text/plain": [
       "'\\x08asda\\x08.*\\x08asdaf\\x08.*\\x08ivan\\x08'"
      ]
     },
     "execution_count": 254,
     "metadata": {},
     "output_type": "execute_result"
    }
   ],
   "source": [
    "apellido1 = \"asda\"\n",
    "apellido2 = \"asdaf\"\n",
    "nombre = \"ivan\"\n",
    "\n",
    "patron = '''\\b''' + '''apellido1 + '''\\b.*\\b''' + apellido2 + '''\\b.*\\b''' + nombre + '''\\b'''\n",
    "\n",
    "patron"
   ]
  },
  {
   "cell_type": "code",
   "execution_count": 253,
   "id": "096c6646",
   "metadata": {},
   "outputs": [
    {
     "data": {
      "text/plain": [
       "'\\x08asda\\x08.*\\x08asdaf\\x08.*\\x08ivan\\x08'"
      ]
     },
     "execution_count": 253,
     "metadata": {},
     "output_type": "execute_result"
    }
   ],
   "source": [
    "a"
   ]
  },
  {
   "cell_type": "code",
   "execution_count": 256,
   "id": "365a6926",
   "metadata": {},
   "outputs": [],
   "source": [
    "patron = r\"\\b\" + apellido1 +r\"\\b.*\\b\"+apellido2+r\"\\b.*\\b\"+nombre+r\"\\b\""
   ]
  },
  {
   "cell_type": "code",
   "execution_count": 257,
   "id": "8428314c",
   "metadata": {},
   "outputs": [
    {
     "data": {
      "text/plain": [
       "'\\\\basda\\\\b.*\\\\basdaf\\\\b.*\\\\bivan\\\\b'"
      ]
     },
     "execution_count": 257,
     "metadata": {},
     "output_type": "execute_result"
    }
   ],
   "source": [
    "patron"
   ]
  },
  {
   "cell_type": "code",
   "execution_count": 258,
   "id": "1037a390",
   "metadata": {},
   "outputs": [],
   "source": [
    "# Valores para sustitución\n",
    "apellido1 = \"Apellido1\"\n",
    "apellido2 = \"Apellido2\"\n",
    "nombre = \"Nombre\"\n",
    "\n",
    "patron = r\"\\bGUTIERREZ\\b.*\\bGONZALEZ\\b.*\\bIVAN\\b\"\n",
    "\n",
    "texto_sustituido = re.sub(patron, f\"{apellido1} {apellido2} {nombre}\", texto, flags=re.IGNORECASE)"
   ]
  },
  {
   "cell_type": "code",
   "execution_count": 259,
   "id": "73cb0a6a",
   "metadata": {},
   "outputs": [
    {
     "data": {
      "text/plain": [
       "'ANA PEREZ Apellido1 Apellido2 Nombre'"
      ]
     },
     "execution_count": 259,
     "metadata": {},
     "output_type": "execute_result"
    }
   ],
   "source": [
    "texto_sustituido"
   ]
  },
  {
   "cell_type": "code",
   "execution_count": 261,
   "id": "7fdc891c",
   "metadata": {},
   "outputs": [
    {
     "name": "stdout",
     "output_type": "stream",
     "text": [
      "Hola, PEREZ GOMEZ SERGIO.\n"
     ]
    }
   ],
   "source": [
    "import re\n",
    "\n",
    "def sustituir_con_patron(texto, patron, reemplazo):\n",
    "    # Realiza la sustitución en el texto según el patrón\n",
    "    texto_sustituido = re.sub(patron, reemplazo, texto, flags=re.IGNORECASE)\n",
    "    \n",
    "    return texto_sustituido\n",
    "\n",
    "# Cadena de texto original\n",
    "texto_original = \"Hola, GUTIERREZ y GONZALEZ. Mi nombre es IVAN.\"\n",
    "\n",
    "# Patrón de búsqueda\n",
    "patron = r\"\\bAPELLIDO1\\b.*\\bAPELLIDO2\\b.*\\bNOMBRE\\b\"\n",
    "\n",
    "# Valor para sustitución\n",
    "reemplazo = \"PEREZ GOMEZ SERGIO\"\n",
    "\n",
    "# Llama a la función para realizar la sustitución con el patrón\n",
    "texto_modificado = sustituir_con_patron(texto_original, patron, reemplazo)\n",
    "print(texto_modificado)"
   ]
  },
  {
   "cell_type": "code",
   "execution_count": 264,
   "id": "264cdf23",
   "metadata": {},
   "outputs": [
    {
     "data": {
      "text/plain": [
       "'\\\\bGUTIERREZ\\\\b.*\\\\bGONZALEZ\\\\b.*\\\\bIVAN\\\\b'"
      ]
     },
     "execution_count": 264,
     "metadata": {},
     "output_type": "execute_result"
    }
   ],
   "source": [
    "patron.replace(\"APELLIDO1\",\"GUTIERREZ\")"
   ]
  },
  {
   "cell_type": "code",
   "execution_count": 268,
   "id": "8cb08863",
   "metadata": {},
   "outputs": [
    {
     "data": {
      "text/plain": [
       "'\\\\bGUTIERREZ\\\\b.*\\\\bGONZALEZ\\\\b.*\\\\bIVAN\\\\b'"
      ]
     },
     "execution_count": 268,
     "metadata": {},
     "output_type": "execute_result"
    }
   ],
   "source": [
    "r\"{}\".format(patron)"
   ]
  },
  {
   "cell_type": "code",
   "execution_count": 281,
   "id": "a53618e1",
   "metadata": {},
   "outputs": [],
   "source": [
    "texto = \"AASD PEDRO IVAN GOMEZ JULIO GAVIRIA PABLO ESCOBAR SANCHEZ JUANEZ COCHE GUTIERREZ PEREZ PEPEZ GONZALEZ MIMBREZ GONZALEZ PEREZ IVAN\""
   ]
  },
  {
   "cell_type": "code",
   "execution_count": 284,
   "id": "e33f935b",
   "metadata": {},
   "outputs": [],
   "source": [
    "apellido1 = \"GUTIERREZ\"\n",
    "apellido2 = \"GONZALEZ\"\n",
    "nombre = \"IVAN\"\n",
    "\n",
    "\n",
    "for i,word in enumerate(texto.split()):\n",
    "    if apellido1 in word:\n",
    "        for i2, word2 in enumerate(texto.split()):\n",
    "            if apellido2 in word2 and i2 > i:\n",
    "                for i3,word3 in enumerate(texto.split()):\n",
    "                    if nombre in word3 and i3 > i2:\n",
    "                        print(apellido1,apellido2,nombre)"
   ]
  },
  {
   "cell_type": "code",
   "execution_count": 283,
   "id": "19c2822c",
   "metadata": {},
   "outputs": [
    {
     "name": "stdout",
     "output_type": "stream",
     "text": [
      "0 AASD\n",
      "1 PEDRO\n",
      "2 IVAN\n",
      "3 GOMEZ\n",
      "4 JULIO\n",
      "5 GAVIRIA\n",
      "6 PABLO\n",
      "7 ESCOBAR\n",
      "8 SANCHEZ\n",
      "9 JUANEZ\n",
      "10 COCHE\n",
      "11 GUTIERREZ\n",
      "12 PEREZ\n",
      "13 PEPEZ\n",
      "14 GONZALEZ\n",
      "15 MIMBREZ\n"
     ]
    }
   ],
   "source": [
    "for i,word in enumerate(texto.split()):\n",
    "    print(i,word)"
   ]
  },
  {
   "cell_type": "code",
   "execution_count": null,
   "id": "ebb873f3",
   "metadata": {},
   "outputs": [],
   "source": []
  }
 ],
 "metadata": {
  "kernelspec": {
   "display_name": "Python 3 (ipykernel)",
   "language": "python",
   "name": "python3"
  },
  "language_info": {
   "codemirror_mode": {
    "name": "ipython",
    "version": 3
   },
   "file_extension": ".py",
   "mimetype": "text/x-python",
   "name": "python",
   "nbconvert_exporter": "python",
   "pygments_lexer": "ipython3",
   "version": "3.11.5"
  }
 },
 "nbformat": 4,
 "nbformat_minor": 5
}
