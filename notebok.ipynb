{
 "cells": [
  {
   "cell_type": "code",
   "execution_count": 3,
   "id": "cea69cb9",
   "metadata": {},
   "outputs": [],
   "source": [
    "string = \"\"\"                               DNI Apellidos y nombre  Unnamed: 0 Parte 1 Parte 2 T.P.S.  Orden\n",
    "0              ***2926** RUIZ CARRILLO, JOSE ANTONIO.         NaN   42,27   45,15  87,42    1.0\n",
    "1                       ***6289** OTERO GARCIA, LUIS.         NaN   40,91   43,06  83,97    2.0\n",
    "2                     ***6522** GARCIA GARCIA, DAVID.         NaN      35   47,92  82,92    3.0\n",
    "3                  ***4102** HERRERO PRIETO, ALBERTO.         NaN   37,58   44,44  82,02    4.0\n",
    "4                        ***2917** MARTIN RUIZ, ABEL.         NaN    39,4   42,35  81,75    5.0\n",
    "5                     ***3272** BAUSELA TELLO, DAVID.         NaN   37,88   43,06  80,94    6.0\"\"\""
   ]
  },
  {
   "cell_type": "code",
   "execution_count": 8,
   "id": "7e439ff2",
   "metadata": {},
   "outputs": [
    {
     "name": "stdout",
     "output_type": "stream",
     "text": [
      "0              ***2926** RUIZ CARRILLO, JOSE ANTONIO.         NaN   42,27   45,15  87,42    1.0\n"
     ]
    }
   ],
   "source": [
    "for line in string.split(\"\\n\"):\n",
    "    if 'RUIZ' in line and 'CARRILLO' in line and \"JOSE\" in line:\n",
    "        print(line)\n",
    "        return True"
   ]
  },
  {
   "cell_type": "code",
   "execution_count": 60,
   "id": "4c733696",
   "metadata": {},
   "outputs": [],
   "source": [
    "import re"
   ]
  },
  {
   "cell_type": "code",
   "execution_count": 61,
   "id": "94cc7be1",
   "metadata": {},
   "outputs": [],
   "source": [
    "import tabula"
   ]
  },
  {
   "cell_type": "code",
   "execution_count": 87,
   "id": "d4ad710b",
   "metadata": {},
   "outputs": [
    {
     "data": {
      "text/plain": [
       "'[                               N.O.P.SAPELLIDOS  Unnamed: 0  \\\\\\n0                                        NOMBRE         NaN   \\n1                                         N.R.P         NaN   \\n2                      1 ****022957 A6200 MATEO         NaN   \\n3                                          SANZ         NaN   \\n4                                       BEATRIZ         NaN   \\n5                                           NaN         NaN   \\n6                  2 ****935868 A6200 RODRIGUEZ         NaN   \\n7                                          ABAD         NaN   \\n8                                        RAFAEL         NaN   \\n9                                           NaN         NaN   \\n10                 3 ****702124 A6200 ABERTURAS         NaN   \\n11                                       AJENJO         NaN   \\n12                                 MARIA PALOMA         NaN   \\n13                   4 ****304457 A6200 JIMENEZ         NaN   \\n14                                     SAAVEDRA         NaN   \\n15                                 MARTA SUSANA         NaN   \\n16                       ÍNDICE DE ABREVIATURAS         NaN   \\n17  NOPS: Número de orden del proceso selectivo         NaN   \\n18          NRP: Número de Registro de Personal         NaN   \\n19  Nivel C.D.: Nivel de Complemento de Destino         NaN   \\n20        C. Específico: Complemento Específico         NaN   \\n21                   S.G.: Subdirección General         NaN   \\n22      Código PT: Código del Puesto de Trabajo         NaN   \\n23                         cve: BOE-A-2019-6149         NaN   \\n24             Verificable en http://www.boe.es         NaN   \\n\\n                                           MINISTERIO  \\\\\\n0                             CENTRO DIRECTIVO/00.A.A   \\n1                                   CENTRO DE DESTINO   \\n2                               MINISTERIO DE FOMENTO   \\n3   CENTRO DE ESTUDIOS Y EXPERIMENTACION DE OBRAS ...   \\n4     LABORATORIO CENTRAL DE ESTRUCTURAS Y MATERIALES   \\n5                                                 NaN   \\n6                               MINISTERIO DE FOMENTO   \\n7   CENTRO DE ESTUDIOS Y EXPERIMENTACION DE OBRAS ...   \\n8                            LABORATORIO DE GEOTECNIA   \\n9                                                 NaN   \\n10                              MINISTERIO DE FOMENTO   \\n11  CENTRO DE ESTUDIOS Y EXPERIMENTACION DE OBRAS ...   \\n12             CENTRO DE ESTUDIOS DE PUERTOS Y COSTAS   \\n13                              MINISTERIO DE FOMENTO   \\n14  CENTRO DE ESTUDIOS Y EXPERIMENTACION DE OBRAS ...   \\n15             CENTRO DE ESTUDIOS DE PUERTOS Y COSTAS   \\n16                                                NaN   \\n17                                                NaN   \\n18                                                NaN   \\n19                                                NaN   \\n20                                                NaN   \\n21                                                NaN   \\n22                                                NaN   \\n23                                                NaN   \\n24                                                NaN   \\n\\n                         PROVINCIA    CÓDIGO PT.  \\n0                        LOCALIDAD    NIVEL C.D.  \\n1                PUESTO DE TRABAJO  C.ESPECÍFICO  \\n2                           MADRID       3006362  \\n3                           MADRID            26  \\n4          DIRECTOR / DIRECTORA DE     11.734,10  \\n5                         PROGRAMA           NaN  \\n6                           MADRID       2657161  \\n7                           MADRID            26  \\n8          DIRECTOR / DIRECTORA DE     11.734,10  \\n9                         PROGRAMA           NaN  \\n10                          MADRID        763201  \\n11                          MADRID            24  \\n12  JEFE / JEFA DE SECCION TECNICA      8.041,74  \\n13                          MADRID       1952335  \\n14                          MADRID            24  \\n15  JEFE / JEFA DE SECCION TECNICA      8.041,74  \\n16                             NaN           NaN  \\n17                             NaN           NaN  \\n18                             NaN           NaN  \\n19                             NaN           NaN  \\n20                             NaN           NaN  \\n21                             NaN           NaN  \\n22                             NaN           NaN  \\n23                             NaN           NaN  \\n24                             NaN           NaN  ,                              N.O.P.S APELLIDOS  \\\\\\n0                                NaN    NOMBRE   \\n1                              N.R.P       NaN   \\n2            1 ****385935 A6200 RUIZ       NaN   \\n3                              BRAVO       NaN   \\n4                              RUBEN       NaN   \\n5           2 ****273768 A6200 CAMPO       NaN   \\n6                         CASCALLANA       NaN   \\n7                            RICARDO       NaN   \\n8          3 ****230935 A6200 CAMARA       NaN   \\n9                            GARRIDO       NaN   \\n10                         JUAN LUIS       NaN   \\n11        4 ****378246 A6200 VIRSEDA       NaN   \\n12                            ALVARO       NaN   \\n13                           ERNESTO       NaN   \\n14          5 ****046913 A6200 LOPEZ       NaN   \\n15                       PECHARROMAN       NaN   \\n16                           ALBERTO       NaN   \\n17      6 ****917435 A6200 RODRIGUEZ       NaN   \\n18                              DURO       NaN   \\n19                             LAURA       NaN   \\n20              cve: BOE-A-2019-6149       NaN   \\n21  Verificable en http://www.boe.es       NaN   \\n\\n                                           MINISTERIO  \\\\\\n0                             CENTRO DIRECTIVO/00.A.A   \\n1                                   CENTRO DE DESTINO   \\n2                               MINISTERIO DE FOMENTO   \\n3   CENTRO DE ESTUDIOS Y EXPERIMENTACION DE OBRAS ...   \\n4                            LABORATORIO DE GEOTECNIA   \\n5                               MINISTERIO DE FOMENTO   \\n6   CENTRO DE ESTUDIOS Y EXPERIMENTACION DE OBRAS ...   \\n7      LABORATORIO DE INTEROPERATIBILIDAD FERROVIARIA   \\n8                               MINISTERIO DE FOMENTO   \\n9   CENTRO DE ESTUDIOS Y EXPERIMENTACION DE OBRAS ...   \\n10                           LABORATORIO DE GEOTECNIA   \\n11                              MINISTERIO DE FOMENTO   \\n12  CENTRO DE ESTUDIOS Y EXPERIMENTACION DE OBRAS ...   \\n13     LABORATORIO DE INTEROPERATIBILIDAD FERROVIARIA   \\n14                              MINISTERIO DE FOMENTO   \\n15  CENTRO DE ESTUDIOS Y EXPERIMENTACION DE OBRAS ...   \\n16             CENTRO DE ESTUDIOS DE PUERTOS Y COSTAS   \\n17                              MINISTERIO DE FOMENTO   \\n18  CENTRO DE ESTUDIOS Y EXPERIMENTACION DE OBRAS ...   \\n19    LABORATORIO CENTRAL DE ESTRUCTURAS Y MATERIALES   \\n20                                                NaN   \\n21                                                NaN   \\n\\n                         PROVINCIA    CÓDIGO PT.  \\n0                        LOCALIDAD    NIVEL C.D.  \\n1                PUESTO DE TRABAJO  C.ESPECÍFICO  \\n2                           MADRID       4608889  \\n3                           MADRID            24  \\n4   JEFE / JEFA DE SECCION TECNICA      8.041,74  \\n5                           MADRID       3942421  \\n6                           MADRID            24  \\n7   JEFE / JEFA DE SECCION TECNICA      8.041,74  \\n8                           MADRID       4688610  \\n9                           MADRID            24  \\n10  JEFE / JEFA DE SECCION TECNICA      8.041,74  \\n11                          MADRID       4695083  \\n12                          MADRID            24  \\n13  JEFE / JEFA DE SECCION TECNICA      8.041,74  \\n14                          MADRID       1298581  \\n15                          MADRID            24  \\n16  JEFE / JEFA DE SECCION TECNICA      8.041,74  \\n17                          MADRID       2459744  \\n18                          MADRID            24  \\n19  JEFE / JEFA DE SECCION TECNICA      8.041,74  \\n20                             NaN           NaN  \\n21                             NaN           NaN  ,       Núm. 99N .O.P.S  APELLIDOS  \\\\\\n0                 NaN     NOMBRE   \\n1               N.R.P        NaN   \\n2  7 ****896135 A6200    CERVERA   \\n3                 NaN    CATALAN   \\n4                 NaN    ANTONIO   \\n5  8 ****216302 A6200  FERNANDEZ   \\n6                 NaN     GARCIA   \\n7                 NaN     SUSANA   \\n8  9 ****208546 A6200  CARNERERO   \\n9                 NaN    MANZANO   \\n\\n   JuevesM 2IN5IS dTEeR aIOb  ril de 2019 Sec. II.A.  Unnamed: 0  \\\\\\n0                            CENTRO DIRECTIVO/00.A.A         NaN   \\n1                                  CENTRO DE DESTINO         NaN   \\n2           AGENCIA ESTATAL DE SEGURIDAD FERROVIARIA         NaN   \\n3                                                NaN         NaN   \\n4                           S.G. DE INFRAESTRUCTURAS         NaN   \\n5                              MINISTERIO DE FOMENTO         NaN   \\n6  CENTRO DE ESTUDIOS Y EXPERIMENTACION DE OBRAS ...         NaN   \\n7    LABORATORIO CENTRAL DE ESTRUCTURAS Y MATERIALES         NaN   \\n8                              MINISTERIO DE FOMENTO         NaN   \\n9  CENTRO DE ESTUDIOS Y EXPERIMENTACION DE OBRAS ...         NaN   \\n\\n              Pág. P4R2O0V3IN1CIA    CÓDIGO PT.  \\n0                       LOCALIDAD    NIVEL C.D.  \\n1               PUESTO DE TRABAJO  C.ESPECÍFICO  \\n2                          MADRID       4087599  \\n3                          MADRID            24  \\n4      TECNICO / TECNICA SUPERIOR      8.041,74  \\n5                          MADRID       3987976  \\n6                          MADRID            24  \\n7  JEFE / JEFA DE SECCION TECNICA      8.041,74  \\n8                          MADRID       4372138  \\n9                          MADRID            24  ]'"
      ]
     },
     "execution_count": 87,
     "metadata": {},
     "output_type": "execute_result"
    }
   ],
   "source": [
    "table = tabula.read_pdf('boe_tipo_2.pdf', pages='all')\n",
    "str(table)"
   ]
  },
  {
   "cell_type": "code",
   "execution_count": 97,
   "id": "dd900dc9",
   "metadata": {},
   "outputs": [],
   "source": [
    "\n",
    "\n",
    "def find_strings_in_order(surname_1,surname_2,name,text):\n",
    "    \n",
    "    surname_1_char_position = text.find(surname_1)\n",
    "    surname_2_char_position = text.find(surname_2)\n",
    "    name_char_position = text.find(name)\n",
    "    \n",
    "    if surname_1_char_position != -1 and surname_2_char_position != -1 and name_char_position != -1:\n",
    "        print(\"Encontrados los apellidos y nombres\")\n",
    "        if surname_1_char_position < surname_2_char_position < name_char_position:\n",
    "            print(\"Encontrados apellidos y nombre en el orden buscado\")\n",
    "            return True \n",
    "        else:\n",
    "            print(\"Apellidos y nombres encontrados pero en otro orden\")\n",
    "            return False\n",
    "    else:\n",
    "        print(\"Alguno de los datos no ha sido encontrado, por lo tanto no nos sirve\")\n",
    "        return False"
   ]
  },
  {
   "cell_type": "code",
   "execution_count": 98,
   "id": "908cfa2b",
   "metadata": {},
   "outputs": [],
   "source": [
    "first_str = \"ABERTURA\"\n",
    "second_str = \"AJENJO\"\n",
    "third_str = \"MARIA PALOMA\""
   ]
  },
  {
   "cell_type": "code",
   "execution_count": 99,
   "id": "b86d0767",
   "metadata": {},
   "outputs": [],
   "source": [
    "text = str(table)"
   ]
  },
  {
   "cell_type": "code",
   "execution_count": 100,
   "id": "8e8edecc",
   "metadata": {},
   "outputs": [
    {
     "name": "stdout",
     "output_type": "stream",
     "text": [
      "Encontrados los apellidos y nombres\n",
      "Encontrados apellidos y nombre en el orden buscado\n",
      "True\n"
     ]
    }
   ],
   "source": [
    "print(find_strings_in_order(first_str,second_str,third_str,text))"
   ]
  },
  {
   "cell_type": "code",
   "execution_count": 12,
   "id": "f9da966f",
   "metadata": {},
   "outputs": [
    {
     "name": "stdout",
     "output_type": "stream",
     "text": [
      "Segundo Apellido: SANCHEZ\n",
      "Primer Apellido: LUEJE\n",
      "Nombre: IVAN\n"
     ]
    }
   ],
   "source": [
    "import re\n",
    "\n",
    "# La cadena de ejemplo\n",
    "cadena = \"***9519** SANCHEZ LUEJE, IVAN.         NaN   35,45    38,9  74,35   26.0\"\n",
    "\n",
    "# Expresión regular para buscar el nombre completo\n",
    "patron = r'\\*\\*\\*\\d+\\*\\* (\\w+) (\\w+) (\\w+)\\.'\n",
    "\n",
    "# Buscar coincidencias en la cadena\n",
    "coincidencias = re.search(patron, cadena)\n",
    "\n",
    "# Comprobar si se encontraron coincidencias y extraer los componentes\n",
    "if coincidencias:\n",
    "    segundo_apellido = coincidencias.group(1)\n",
    "    primer_apellido = coincidencias.group(2)\n",
    "    nombre = coincidencias.group(3)\n",
    "    print(f\"Segundo Apellido: {segundo_apellido}\")\n",
    "    print(f\"Primer Apellido: {primer_apellido}\")\n",
    "    print(f\"Nombre: {nombre}\")\n",
    "else:\n",
    "    print(\"No se encontraron coincidencias.\")\n",
    "    \n",
    "patron = r'\\*\\*\\*\\d+\\*\\* (\\w+) (\\w+), (\\w+)\\.'"
   ]
  },
  {
   "cell_type": "code",
   "execution_count": null,
   "id": "5297cc3b",
   "metadata": {},
   "outputs": [],
   "source": [
    "def regular_exp(text):\n",
    "    patron = r'\\*\\*\\*\\d+\\*\\* (\\w+) (\\w+) (\\w+)\\.'"
   ]
  },
  {
   "cell_type": "code",
   "execution_count": 52,
   "id": "5c2369d5",
   "metadata": {},
   "outputs": [
    {
     "name": "stdout",
     "output_type": "stream",
     "text": [
      "No se encontraron coincidencias.\n"
     ]
    }
   ],
   "source": [
    "\"\"\"\n",
    "CASO 1\n",
    "\"\"\"\n",
    "import re\n",
    "\n",
    "# La cadena de ejemplo\n",
    "cadena = \"***9519** SANCHEZ LUEJE, IVAN.         NaN   35,45    38,9  74,35   26.0\"\n",
    "\n",
    "# Expresión regular para buscar el nombre completo con el orden requerido\n",
    "patron = r' (\\w+) (\\w+) (\\w+)\\.'\n",
    "\n",
    "# Buscar coincidencias en la cadena\n",
    "coincidencias = re.search(patron, cadena)\n",
    "\n",
    "# Comprobar si se encontraron coincidencias y verificar el orden\n",
    "if coincidencias:\n",
    "    segundo_apellido = coincidencias.group(1)\n",
    "    primer_apellido = coincidencias.group(2)\n",
    "    nombre = coincidencias.group(3)\n",
    "\n",
    "    # Verificar el orden requerido\n",
    "    if segundo_apellido and primer_apellido and nombre:\n",
    "        print(\"El orden es correcto: segundo apellido, primer apellido, nombre.\")\n",
    "        print(f\"{segundo_apellido} {primer_apellido} {nombre}\")\n",
    "    else:\n",
    "        print(\"El orden no es correcto.\")\n",
    "else:\n",
    "    print(\"No se encontraron coincidencias.\")"
   ]
  },
  {
   "cell_type": "code",
   "execution_count": 46,
   "id": "50367eca",
   "metadata": {},
   "outputs": [
    {
     "name": "stdout",
     "output_type": "stream",
     "text": [
      "No se encontraron coincidencias.\n"
     ]
    }
   ],
   "source": [
    "\"\"\"\n",
    "CASO 2\n",
    "\n",
    "\"\"\"\n",
    "\n",
    "import re\n",
    "\n",
    "# La cadena de ejemplo\n",
    "table_str = table[0]\n",
    "\n",
    "# Expresión regular para buscar el nombre completo con el orden requerido\n",
    "patron = r'(\\w+) (\\w+) (\\w+)\\.'\n",
    "\n",
    "cadena = \"RODRIGUEZ ABAD RAFAEL\"\n",
    "# Buscar coincidencias en la cadena\n",
    "coincidencias = re.search(patron, cadena)\n",
    "\n",
    "# Comprobar si se encontraron coincidencias y verificar el orden\n",
    "if coincidencias:\n",
    "    segundo_apellido = coincidencias.group(1)\n",
    "    primer_apellido = coincidencias.group(2)\n",
    "    nombre = coincidencias.group(3)\n",
    "\n",
    "    # Verificar el orden requerido\n",
    "    if segundo_apellido and primer_apellido and nombre:\n",
    "        print(\"El orden es correcto: segundo apellido, primer apellido, nombre.\")\n",
    "        print(f\"{segundo_apellido} {primer_apellido} {nombre}\")\n",
    "    else:\n",
    "        print(\"El orden no es correcto.\")\n",
    "else:\n",
    "    print(\"No se encontraron coincidencias.\")"
   ]
  },
  {
   "cell_type": "code",
   "execution_count": 19,
   "id": "5d987f6f",
   "metadata": {},
   "outputs": [
    {
     "data": {
      "text/plain": [
       "pandas.core.frame.DataFrame"
      ]
     },
     "execution_count": 19,
     "metadata": {},
     "output_type": "execute_result"
    }
   ],
   "source": [
    "type(table[0])"
   ]
  },
  {
   "cell_type": "code",
   "execution_count": 40,
   "id": "5941f13d",
   "metadata": {},
   "outputs": [
    {
     "name": "stdout",
     "output_type": "stream",
     "text": [
      "15\n",
      "OK\n"
     ]
    }
   ],
   "source": [
    "\n",
    "# importing required modules\n",
    "import PyPDF2\n",
    "from PyPDF2 import PdfReader\n",
    "full_text = []\n",
    "reader = PdfReader(\"boe_tipo_1.pdf\")\n",
    "page = reader.pages\n",
    "print(len(page))\n",
    "\n",
    "for page in range(len(reader.pages)):\n",
    "        pageObj = reader.pages[page]\n",
    "        text = pageObj.extract_text()\n",
    "        if 'RIVAS' in text and 'BAREA' in text and 'HELCAI' in text:\n",
    "            print(\"OK\")\n",
    "        #print(text)\n",
    "        #full_text.append(text)"
   ]
  },
  {
   "cell_type": "code",
   "execution_count": 38,
   "id": "049a1f45",
   "metadata": {},
   "outputs": [],
   "source": [
    "text = pageObj.extract_text()"
   ]
  },
  {
   "cell_type": "code",
   "execution_count": 41,
   "id": "22dead4b",
   "metadata": {},
   "outputs": [
    {
     "name": "stdout",
     "output_type": "stream",
     "text": [
      "<class 'str'>\n"
     ]
    }
   ],
   "source": [
    "print(type(text))"
   ]
  },
  {
   "cell_type": "code",
   "execution_count": 45,
   "id": "87ceea7c",
   "metadata": {},
   "outputs": [
    {
     "name": "stdout",
     "output_type": "stream",
     "text": [
      "DNI Apellidos y nombre Parte 1 Parte 2 T.P.S. Orden\n",
      "***8814** BAREA LOPEZ, JUAN ANTONIO. 26,97 25 51,97 0450\n",
      "***8468** GONZALEZ SANTOS, JAVIER. 25,45 26,4 51,85 0451\n",
      "***4627** SANCHEZ-AJOFRIN LOPEZ, LUIS MARIA. 25,45 26,4 51,85 0452\n",
      "***3866** GARCIA RIVAS, FERNANDO. 26,82 25 51,82 0453\n",
      "***7507** PEDROSA PENA, NELSON. 26,06 25,69 51,75 0454\n",
      "***0226** FIBLA CAÑIZARES, HELCAI. 25,3 25,59 50,89 0455\n",
      "ANEXO II\n",
      "Cuerpo de Técnicos Auxiliares de Informática de la Administración del Estado\n",
      "Turno libre\n",
      "Relación de personas aspirantes aprobadas que deben presentar documentación\n",
      "DNI Apellidos y nombre Documentación que deben presentar\n",
      "****7806*ABREU DA SILVA, ALEXANDER \n",
      "JOSE DE.Declaración jurada o promesa de no hallarse inhabilitado o en situación equivalente, ni haber sido \n",
      "sometido a sanción disciplinaria o equivalente, que impida, en su Estado de nacionalidad, el \n",
      "acceso al empleo público.\n",
      "****3795* BOTTERO, FABRIZIO.Copia auténtica de la titulación exigida.\n",
      "Declaración jurada o promesa de no hallarse inhabilitado o en situación equivalente, ni haber sido \n",
      "sometido a sanción disciplinaria o equivalente, que impida, en su Estado de nacionalidad, el \n",
      "acceso al empleo público.\n",
      "****3740*CAEIRAS PARDAL PIMENCA \n",
      "BACAO, SOLANGE.Copia auténtica de la titulación exigida.\n",
      "Declaración jurada o promesa de no hallarse inhabilitado o en situación equivalente, ni haber sido \n",
      "sometido a sanción disciplinaria o equivalente, que impida, en su Estado de nacionalidad, el \n",
      "acceso al empleo público.\n",
      "***4332** CISNEROS PASCUAL, MANUEL. Copia auténtica de la titulación exigida.\n",
      "***4837** COSIO CERVIÑO, JOSE ANDRES. Copia auténtica de la titulación exigida.\n",
      "***7945**GARCIA RODRIGUEZ, JUAN \n",
      "JOSE.Copia auténtica de la titulación exigida.\n",
      "***3956** GONZÁLEZ LÓPEZ, MIGUEL. Copia auténtica de la titulación exigida.\n",
      "****7492*GUEVARA SALAZAR, JOSE \n",
      "RAFAEL.Declaración jurada o promesa de no hallarse inhabilitado o en situación equivalente, ni haber sido \n",
      "sometido a sanción disciplinaria o equivalente, que impida, en su Estado de nacionalidad, el \n",
      "acceso al empleo público.\n",
      "***4610**MARTÍNEZ FERNÁNDES, MIGUEL \n",
      "ANGEL.Copia auténtica de la titulación exigida.\n",
      "***9223**MARTINEZ PEREZ, FERNANDO \n",
      "JAVIER.Copia auténtica de la titulación exigida.\n",
      "***7109** SANCHIS ESPARZA, SANTIAGO. Copia auténtica de la titulación exigida.\n",
      "***8346**TORRES FERNANDEZ-PIÑAR, \n",
      "MIGUEL ANGEL.Copia auténtica de la titulación exigida.\n",
      "BOLETÍN OFICIAL DEL ESTADO\n",
      "Núm. 68 Lunes 21 de marzo de 2022 Sec. II.B.   Pág. 35962\n",
      "cve: BOE-A-2022-4417\n",
      "Verificable en https://www.boe.es\n",
      "https://www.boe.es BOLETÍN OFICIAL DEL ESTADO D. L.: M-1/1958 - ISSN: 0212-033X\n"
     ]
    }
   ],
   "source": [
    "for line in text.split(\"\\n\"):\n",
    "    print(line)"
   ]
  },
  {
   "cell_type": "code",
   "execution_count": 1,
   "id": "93fd35c6",
   "metadata": {},
   "outputs": [],
   "source": [
    "# Crear algoritmo que recorrar un string y encuentre apellidos y nombre en ordenabs"
   ]
  },
  {
   "cell_type": "code",
   "execution_count": 17,
   "id": "38e8d092",
   "metadata": {},
   "outputs": [],
   "source": [
    "text = \"asdafksj fskgj dfg fs GUTIERREZ PEREZ CUTRZ PEPE GONZALEZ asdasd ****23423**** IVAN ****6190** JIMENEZ luis GUTIERREZ SANCHEZ\""
   ]
  },
  {
   "cell_type": "code",
   "execution_count": 3,
   "id": "60c161d9",
   "metadata": {},
   "outputs": [],
   "source": [
    "import re"
   ]
  },
  {
   "cell_type": "code",
   "execution_count": 4,
   "id": "584973f2",
   "metadata": {},
   "outputs": [
    {
     "name": "stdout",
     "output_type": "stream",
     "text": [
      "Se encontró una coincidencia.\n"
     ]
    }
   ],
   "source": [
    "\n",
    "\n",
    "texto = \"Hola, mundo\"\n",
    "patron = r\"mundo\"\n",
    "\n",
    "if re.search(patron, texto):\n",
    "    print(\"Se encontró una coincidencia.\")\n",
    "else:\n",
    "    print(\"No se encontró una coincidencia.\")"
   ]
  },
  {
   "cell_type": "code",
   "execution_count": 5,
   "id": "3cb44563",
   "metadata": {},
   "outputs": [
    {
     "name": "stdout",
     "output_type": "stream",
     "text": [
      "OK\n"
     ]
    }
   ],
   "source": [
    "if re.search(\"GUTIERREZ\",text) and re.search(\"GONZALEZ\",text) and re.search(\"IVAN\",text) and ():\n",
    "    print(\"OK\")"
   ]
  },
  {
   "cell_type": "code",
   "execution_count": 8,
   "id": "4ca344cc",
   "metadata": {},
   "outputs": [],
   "source": [
    "def word_start_at(texto,palabra):\n",
    "    inicio_palabra = texto.find(palabra)\n",
    "    return inicio_palabra"
   ]
  },
  {
   "cell_type": "code",
   "execution_count": 10,
   "id": "8d83d387",
   "metadata": {},
   "outputs": [
    {
     "name": "stdout",
     "output_type": "stream",
     "text": [
      "22\n"
     ]
    }
   ],
   "source": [
    "primera = word_start_at(text,\"GUTIERREZ\")\n",
    "print(primera)"
   ]
  },
  {
   "cell_type": "code",
   "execution_count": 11,
   "id": "d971e6ea",
   "metadata": {},
   "outputs": [
    {
     "name": "stdout",
     "output_type": "stream",
     "text": [
      "49\n"
     ]
    }
   ],
   "source": [
    "segunda = word_start_at(text,\"GONZALEZ\")\n",
    "print(segunda)"
   ]
  },
  {
   "cell_type": "code",
   "execution_count": 14,
   "id": "cf4a8bb1",
   "metadata": {},
   "outputs": [
    {
     "name": "stdout",
     "output_type": "stream",
     "text": [
      "79\n"
     ]
    }
   ],
   "source": [
    "tercera = word_start_at(text,\"IVAN\")\n",
    "print(tercera)"
   ]
  },
  {
   "cell_type": "code",
   "execution_count": 15,
   "id": "c8fa34d0",
   "metadata": {},
   "outputs": [
    {
     "name": "stdout",
     "output_type": "stream",
     "text": [
      "-1\n"
     ]
    }
   ],
   "source": [
    "test = word_start_at(text,\"sajon\")\n",
    "print(test)"
   ]
  },
  {
   "cell_type": "code",
   "execution_count": 35,
   "id": "252407fe",
   "metadata": {},
   "outputs": [],
   "source": [
    "first_word = text.find(\"GUTIERREZ\")\n",
    "second_word = text.find(\"GONZALEZ\")\n",
    "third_word = text.find(\"IVAN\")\n",
    "fourth_word = text.find(\"Asdasdasdadsda\")\n",
    "\n"
   ]
  },
  {
   "cell_type": "code",
   "execution_count": 41,
   "id": "e3b2dbc7",
   "metadata": {},
   "outputs": [
    {
     "name": "stdout",
     "output_type": "stream",
     "text": [
      "22\n",
      "<class 'int'>\n"
     ]
    },
    {
     "data": {
      "text/plain": [
       "True"
      ]
     },
     "execution_count": 41,
     "metadata": {},
     "output_type": "execute_result"
    }
   ],
   "source": [
    "def bool_word(word):\n",
    "    if (text.find(word) != -1):\n",
    "        print(text.find(word))\n",
    "        print(type(text.find(word)))\n",
    "        return True\n",
    "bool_word(\"GUTIERREZ\")"
   ]
  },
  {
   "cell_type": "code",
   "execution_count": 42,
   "id": "0675491f",
   "metadata": {},
   "outputs": [
    {
     "ename": "TypeError",
     "evalue": "must be str, not int",
     "output_type": "error",
     "traceback": [
      "\u001b[0;31m---------------------------------------------------------------------------\u001b[0m",
      "\u001b[0;31mTypeError\u001b[0m                                 Traceback (most recent call last)",
      "Cell \u001b[0;32mIn[42], line 1\u001b[0m\n\u001b[0;32m----> 1\u001b[0m \u001b[38;5;28;01mif\u001b[39;00m bool_word(first_word) \u001b[38;5;129;01mand\u001b[39;00m bool_word(second_word) \u001b[38;5;129;01mand\u001b[39;00m bool_word(thir_word):\n\u001b[1;32m      2\u001b[0m     \u001b[38;5;28mprint\u001b[39m(\u001b[38;5;124m\"\u001b[39m\u001b[38;5;124mexiste\u001b[39m\u001b[38;5;124m\"\u001b[39m)\n\u001b[1;32m      3\u001b[0m     \u001b[38;5;28;01mif\u001b[39;00m first_word \u001b[38;5;241m<\u001b[39m second_word \u001b[38;5;241m<\u001b[39m third_word:\n",
      "Cell \u001b[0;32mIn[41], line 2\u001b[0m, in \u001b[0;36mbool_word\u001b[0;34m(word)\u001b[0m\n\u001b[1;32m      1\u001b[0m \u001b[38;5;28;01mdef\u001b[39;00m \u001b[38;5;21mbool_word\u001b[39m(word):\n\u001b[0;32m----> 2\u001b[0m     \u001b[38;5;28;01mif\u001b[39;00m (text\u001b[38;5;241m.\u001b[39mfind(word) \u001b[38;5;241m!=\u001b[39m \u001b[38;5;241m-\u001b[39m\u001b[38;5;241m1\u001b[39m):\n\u001b[1;32m      3\u001b[0m         \u001b[38;5;28mprint\u001b[39m(text\u001b[38;5;241m.\u001b[39mfind(word))\n\u001b[1;32m      4\u001b[0m         \u001b[38;5;28mprint\u001b[39m(\u001b[38;5;28mtype\u001b[39m(text\u001b[38;5;241m.\u001b[39mfind(word)))\n",
      "\u001b[0;31mTypeError\u001b[0m: must be str, not int"
     ]
    }
   ],
   "source": [
    "if bool_word(first_word) and bool_word(second_word) and bool_word(thir_word):\n",
    "    print(\"existe\")\n",
    "    if first_word < second_word < third_word:\n",
    "        print(\"OK, encontradas en orden\")\n",
    "else:\n",
    "    print(\"no existe\")"
   ]
  },
  {
   "cell_type": "code",
   "execution_count": 24,
   "id": "4283153c",
   "metadata": {},
   "outputs": [
    {
     "name": "stdout",
     "output_type": "stream",
     "text": [
      "True\n"
     ]
    }
   ],
   "source": [
    "print(bool(fourth_word))"
   ]
  },
  {
   "cell_type": "code",
   "execution_count": 101,
   "id": "27b463d6",
   "metadata": {},
   "outputs": [
    {
     "data": {
      "text/plain": [
       "'\\nPruebas expresiones regulares\\n'"
      ]
     },
     "execution_count": 101,
     "metadata": {},
     "output_type": "execute_result"
    }
   ],
   "source": [
    "\"\"\"\n",
    "Pruebas expresiones regulares\n",
    "\"\"\""
   ]
  },
  {
   "cell_type": "code",
   "execution_count": 107,
   "id": "81b31988",
   "metadata": {},
   "outputs": [
    {
     "name": "stdout",
     "output_type": "stream",
     "text": [
      "Numero no encontrado\n"
     ]
    }
   ],
   "source": [
    "texto = \"Soy Ivan Gutierrez, mi emal es ivan@gutierrez.com, y mi numero es 123-456-7890\"\n",
    "\n",
    "patron = r\"\\d{3}-\\d{3}-\\d{4}\"\n",
    "resultado = re.search(patron,text)\n",
    "\n",
    "if resultado:\n",
    "    print(\"El numero es: \",resultado.group())\n",
    "else:\n",
    "    print(\"Numero no encontrado\")"
   ]
  },
  {
   "cell_type": "code",
   "execution_count": 115,
   "id": "9a96d466",
   "metadata": {},
   "outputs": [
    {
     "name": "stdout",
     "output_type": "stream",
     "text": [
      "Número de teléfono encontrado: 91-666-22-61\n"
     ]
    }
   ],
   "source": [
    "import re\n",
    "\n",
    "texto = \"Soy Ivan Gutierrez, mi email es ivan@gutierrez.com, y mi numero es 91-666-22-61\"\n",
    "patron = r\"\\d{2}-\\d{3}-\\d{2}-\\d{2}\"\n",
    "\n",
    "resultado = re.search(patron, texto)\n",
    "if resultado:\n",
    "    print(\"Número de teléfono encontrado:\", resultado.group())\n",
    "else:\n",
    "    print(\"Número de teléfono no encontrado.\")"
   ]
  },
  {
   "cell_type": "code",
   "execution_count": 120,
   "id": "9daad0f7",
   "metadata": {},
   "outputs": [
    {
     "name": "stdout",
     "output_type": "stream",
     "text": [
      "Resultado no encontrado.\n"
     ]
    }
   ],
   "source": [
    "patron = r\"\\w{4}@\\w{9})\"\n",
    "resultado = re.search(patron,text)\n",
    "if resultado:\n",
    "    print(\"Resultado encontrado:\", resultado.group())\n",
    "else:\n",
    "    print(\"Resultado no encontrado.\")"
   ]
  },
  {
   "cell_type": "code",
   "execution_count": 5,
   "id": "5c76f07b",
   "metadata": {},
   "outputs": [],
   "source": [
    "import wget"
   ]
  },
  {
   "cell_type": "code",
   "execution_count": 6,
   "id": "1fe7ab52",
   "metadata": {},
   "outputs": [],
   "source": [
    "url = \"https://file-examples.com/storage/feb57324aa650f65fa00875/2017/10/file-sample_150kB.pdf\""
   ]
  },
  {
   "cell_type": "code",
   "execution_count": 7,
   "id": "f38f30e8",
   "metadata": {},
   "outputs": [
    {
     "name": "stdout",
     "output_type": "stream",
     "text": [
      "\r",
      "  0% [                                                                            ]      0 / 142786\r",
      "  5% [....                                                                        ]   8192 / 142786\r",
      " 11% [........                                                                    ]  16384 / 142786\r",
      " 17% [.............                                                               ]  24576 / 142786\r",
      " 22% [.................                                                           ]  32768 / 142786\r",
      " 28% [.....................                                                       ]  40960 / 142786\r",
      " 34% [..........................                                                  ]  49152 / 142786\r",
      " 40% [..............................                                              ]  57344 / 142786\r",
      " 45% [..................................                                          ]  65536 / 142786\r",
      " 51% [.......................................                                     ]  73728 / 142786\r",
      " 57% [...........................................                                 ]  81920 / 142786\r",
      " 63% [...............................................                             ]  90112 / 142786\r",
      " 68% [....................................................                        ]  98304 / 142786\r",
      " 74% [........................................................                    ] 106496 / 142786\r",
      " 80% [.............................................................               ] 114688 / 142786\r",
      " 86% [.................................................................           ] 122880 / 142786\r",
      " 91% [.....................................................................       ] 131072 / 142786\r",
      " 97% [..........................................................................  ] 139264 / 142786\r",
      "100% [............................................................................] 142786 / 142786"
     ]
    }
   ],
   "source": [
    "wget_ok = wget.download(url)"
   ]
  },
  {
   "cell_type": "code",
   "execution_count": 8,
   "id": "4c5db7bc",
   "metadata": {},
   "outputs": [
    {
     "name": "stdout",
     "output_type": "stream",
     "text": [
      "file-sample_150kB (1).pdf\n"
     ]
    }
   ],
   "source": [
    "print(wget_ok)"
   ]
  },
  {
   "cell_type": "code",
   "execution_count": 11,
   "id": "c4ee598d",
   "metadata": {},
   "outputs": [
    {
     "ename": "HTTPError",
     "evalue": "HTTP Error 404: Not Found",
     "output_type": "error",
     "traceback": [
      "\u001b[0;31m---------------------------------------------------------------------------\u001b[0m",
      "\u001b[0;31mHTTPError\u001b[0m                                 Traceback (most recent call last)",
      "Cell \u001b[0;32mIn[11], line 2\u001b[0m\n\u001b[1;32m      1\u001b[0m url_ko \u001b[38;5;241m=\u001b[39m \u001b[38;5;124m\"\u001b[39m\u001b[38;5;124mhttps://file-examples.com/storage/feb57324aa650f65fa00875/2017/10/file-sasdfmple_150kB.pdf\u001b[39m\u001b[38;5;124m\"\u001b[39m\n\u001b[0;32m----> 2\u001b[0m wget_ko \u001b[38;5;241m=\u001b[39m wget\u001b[38;5;241m.\u001b[39mdownload(url_ko)\n",
      "File \u001b[0;32m~/anaconda3/envs/ml_zoom_env/lib/python3.11/site-packages/wget.py:526\u001b[0m, in \u001b[0;36mdownload\u001b[0;34m(url, out, bar)\u001b[0m\n\u001b[1;32m    524\u001b[0m \u001b[38;5;28;01melse\u001b[39;00m:\n\u001b[1;32m    525\u001b[0m     binurl \u001b[38;5;241m=\u001b[39m url\n\u001b[0;32m--> 526\u001b[0m (tmpfile, headers) \u001b[38;5;241m=\u001b[39m ulib\u001b[38;5;241m.\u001b[39murlretrieve(binurl, tmpfile, callback)\n\u001b[1;32m    527\u001b[0m filename \u001b[38;5;241m=\u001b[39m detect_filename(url, out, headers)\n\u001b[1;32m    528\u001b[0m \u001b[38;5;28;01mif\u001b[39;00m outdir:\n",
      "File \u001b[0;32m~/anaconda3/envs/ml_zoom_env/lib/python3.11/urllib/request.py:241\u001b[0m, in \u001b[0;36murlretrieve\u001b[0;34m(url, filename, reporthook, data)\u001b[0m\n\u001b[1;32m    224\u001b[0m \u001b[38;5;250m\u001b[39m\u001b[38;5;124;03m\"\"\"\u001b[39;00m\n\u001b[1;32m    225\u001b[0m \u001b[38;5;124;03mRetrieve a URL into a temporary location on disk.\u001b[39;00m\n\u001b[1;32m    226\u001b[0m \n\u001b[0;32m   (...)\u001b[0m\n\u001b[1;32m    237\u001b[0m \u001b[38;5;124;03mdata file as well as the resulting HTTPMessage object.\u001b[39;00m\n\u001b[1;32m    238\u001b[0m \u001b[38;5;124;03m\"\"\"\u001b[39;00m\n\u001b[1;32m    239\u001b[0m url_type, path \u001b[38;5;241m=\u001b[39m _splittype(url)\n\u001b[0;32m--> 241\u001b[0m \u001b[38;5;28;01mwith\u001b[39;00m contextlib\u001b[38;5;241m.\u001b[39mclosing(urlopen(url, data)) \u001b[38;5;28;01mas\u001b[39;00m fp:\n\u001b[1;32m    242\u001b[0m     headers \u001b[38;5;241m=\u001b[39m fp\u001b[38;5;241m.\u001b[39minfo()\n\u001b[1;32m    244\u001b[0m     \u001b[38;5;66;03m# Just return the local path and the \"headers\" for file://\u001b[39;00m\n\u001b[1;32m    245\u001b[0m     \u001b[38;5;66;03m# URLs. No sense in performing a copy unless requested.\u001b[39;00m\n",
      "File \u001b[0;32m~/anaconda3/envs/ml_zoom_env/lib/python3.11/urllib/request.py:216\u001b[0m, in \u001b[0;36murlopen\u001b[0;34m(url, data, timeout, cafile, capath, cadefault, context)\u001b[0m\n\u001b[1;32m    214\u001b[0m \u001b[38;5;28;01melse\u001b[39;00m:\n\u001b[1;32m    215\u001b[0m     opener \u001b[38;5;241m=\u001b[39m _opener\n\u001b[0;32m--> 216\u001b[0m \u001b[38;5;28;01mreturn\u001b[39;00m opener\u001b[38;5;241m.\u001b[39mopen(url, data, timeout)\n",
      "File \u001b[0;32m~/anaconda3/envs/ml_zoom_env/lib/python3.11/urllib/request.py:525\u001b[0m, in \u001b[0;36mOpenerDirector.open\u001b[0;34m(self, fullurl, data, timeout)\u001b[0m\n\u001b[1;32m    523\u001b[0m \u001b[38;5;28;01mfor\u001b[39;00m processor \u001b[38;5;129;01min\u001b[39;00m \u001b[38;5;28mself\u001b[39m\u001b[38;5;241m.\u001b[39mprocess_response\u001b[38;5;241m.\u001b[39mget(protocol, []):\n\u001b[1;32m    524\u001b[0m     meth \u001b[38;5;241m=\u001b[39m \u001b[38;5;28mgetattr\u001b[39m(processor, meth_name)\n\u001b[0;32m--> 525\u001b[0m     response \u001b[38;5;241m=\u001b[39m meth(req, response)\n\u001b[1;32m    527\u001b[0m \u001b[38;5;28;01mreturn\u001b[39;00m response\n",
      "File \u001b[0;32m~/anaconda3/envs/ml_zoom_env/lib/python3.11/urllib/request.py:634\u001b[0m, in \u001b[0;36mHTTPErrorProcessor.http_response\u001b[0;34m(self, request, response)\u001b[0m\n\u001b[1;32m    631\u001b[0m \u001b[38;5;66;03m# According to RFC 2616, \"2xx\" code indicates that the client's\u001b[39;00m\n\u001b[1;32m    632\u001b[0m \u001b[38;5;66;03m# request was successfully received, understood, and accepted.\u001b[39;00m\n\u001b[1;32m    633\u001b[0m \u001b[38;5;28;01mif\u001b[39;00m \u001b[38;5;129;01mnot\u001b[39;00m (\u001b[38;5;241m200\u001b[39m \u001b[38;5;241m<\u001b[39m\u001b[38;5;241m=\u001b[39m code \u001b[38;5;241m<\u001b[39m \u001b[38;5;241m300\u001b[39m):\n\u001b[0;32m--> 634\u001b[0m     response \u001b[38;5;241m=\u001b[39m \u001b[38;5;28mself\u001b[39m\u001b[38;5;241m.\u001b[39mparent\u001b[38;5;241m.\u001b[39merror(\n\u001b[1;32m    635\u001b[0m         \u001b[38;5;124m'\u001b[39m\u001b[38;5;124mhttp\u001b[39m\u001b[38;5;124m'\u001b[39m, request, response, code, msg, hdrs)\n\u001b[1;32m    637\u001b[0m \u001b[38;5;28;01mreturn\u001b[39;00m response\n",
      "File \u001b[0;32m~/anaconda3/envs/ml_zoom_env/lib/python3.11/urllib/request.py:563\u001b[0m, in \u001b[0;36mOpenerDirector.error\u001b[0;34m(self, proto, *args)\u001b[0m\n\u001b[1;32m    561\u001b[0m \u001b[38;5;28;01mif\u001b[39;00m http_err:\n\u001b[1;32m    562\u001b[0m     args \u001b[38;5;241m=\u001b[39m (\u001b[38;5;28mdict\u001b[39m, \u001b[38;5;124m'\u001b[39m\u001b[38;5;124mdefault\u001b[39m\u001b[38;5;124m'\u001b[39m, \u001b[38;5;124m'\u001b[39m\u001b[38;5;124mhttp_error_default\u001b[39m\u001b[38;5;124m'\u001b[39m) \u001b[38;5;241m+\u001b[39m orig_args\n\u001b[0;32m--> 563\u001b[0m     \u001b[38;5;28;01mreturn\u001b[39;00m \u001b[38;5;28mself\u001b[39m\u001b[38;5;241m.\u001b[39m_call_chain(\u001b[38;5;241m*\u001b[39margs)\n",
      "File \u001b[0;32m~/anaconda3/envs/ml_zoom_env/lib/python3.11/urllib/request.py:496\u001b[0m, in \u001b[0;36mOpenerDirector._call_chain\u001b[0;34m(self, chain, kind, meth_name, *args)\u001b[0m\n\u001b[1;32m    494\u001b[0m \u001b[38;5;28;01mfor\u001b[39;00m handler \u001b[38;5;129;01min\u001b[39;00m handlers:\n\u001b[1;32m    495\u001b[0m     func \u001b[38;5;241m=\u001b[39m \u001b[38;5;28mgetattr\u001b[39m(handler, meth_name)\n\u001b[0;32m--> 496\u001b[0m     result \u001b[38;5;241m=\u001b[39m func(\u001b[38;5;241m*\u001b[39margs)\n\u001b[1;32m    497\u001b[0m     \u001b[38;5;28;01mif\u001b[39;00m result \u001b[38;5;129;01mis\u001b[39;00m \u001b[38;5;129;01mnot\u001b[39;00m \u001b[38;5;28;01mNone\u001b[39;00m:\n\u001b[1;32m    498\u001b[0m         \u001b[38;5;28;01mreturn\u001b[39;00m result\n",
      "File \u001b[0;32m~/anaconda3/envs/ml_zoom_env/lib/python3.11/urllib/request.py:643\u001b[0m, in \u001b[0;36mHTTPDefaultErrorHandler.http_error_default\u001b[0;34m(self, req, fp, code, msg, hdrs)\u001b[0m\n\u001b[1;32m    642\u001b[0m \u001b[38;5;28;01mdef\u001b[39;00m \u001b[38;5;21mhttp_error_default\u001b[39m(\u001b[38;5;28mself\u001b[39m, req, fp, code, msg, hdrs):\n\u001b[0;32m--> 643\u001b[0m     \u001b[38;5;28;01mraise\u001b[39;00m HTTPError(req\u001b[38;5;241m.\u001b[39mfull_url, code, msg, hdrs, fp)\n",
      "\u001b[0;31mHTTPError\u001b[0m: HTTP Error 404: Not Found"
     ]
    }
   ],
   "source": [
    "url_ko = \"https://file-examples.com/storage/feb57324aa650f65fa00875/2017/10/file-sasdfmple_150kB.pdf\"\n",
    "wget_ko = wget.download(url_ko)\n"
   ]
  },
  {
   "cell_type": "code",
   "execution_count": 17,
   "id": "8e9c9e2d",
   "metadata": {},
   "outputs": [],
   "source": [
    "\n",
    "def download_file_to_target(url):\n",
    "    import requests\n",
    "    destino = url.split(\"/\")[-1]\n",
    "\n",
    "    response = requests.get(url)\n",
    "    if response.status_code == 200:\n",
    "        with open(destino, 'wb') as file:\n",
    "            file.write(response.content)\n",
    "        print(f\"Archivo descargado como '{destino}'\")\n",
    "    else:\n",
    "        print(f\"No se pudo descargar el archivo. Código de estado: {response.status_code}\")\n",
    "    \n",
    "    return response.status_code\n"
   ]
  },
  {
   "cell_type": "code",
   "execution_count": 18,
   "id": "d4f0b758",
   "metadata": {},
   "outputs": [
    {
     "name": "stdout",
     "output_type": "stream",
     "text": [
      "Archivo descargado como 'file-sample_150kB.pdf'\n"
     ]
    },
    {
     "data": {
      "text/plain": [
       "200"
      ]
     },
     "execution_count": 18,
     "metadata": {},
     "output_type": "execute_result"
    }
   ],
   "source": [
    "download_file_to_target(\"https://file-examples.com/storage/feb57324aa650f65fa00875/2017/10/file-sample_150kB.pdf\")"
   ]
  },
  {
   "cell_type": "code",
   "execution_count": 19,
   "id": "4fd9097e",
   "metadata": {},
   "outputs": [],
   "source": [
    "a = \"https://ejemplo.com/archivo.zip\""
   ]
  },
  {
   "cell_type": "code",
   "execution_count": 16,
   "id": "30e715f8",
   "metadata": {},
   "outputs": [
    {
     "data": {
      "text/plain": [
       "'archivo.zip'"
      ]
     },
     "execution_count": 16,
     "metadata": {},
     "output_type": "execute_result"
    }
   ],
   "source": [
    "a.split(\"/\")[-1]"
   ]
  },
  {
   "cell_type": "code",
   "execution_count": 23,
   "id": "db8fd7df",
   "metadata": {},
   "outputs": [
    {
     "data": {
      "text/plain": [
       "-1"
      ]
     },
     "execution_count": 23,
     "metadata": {},
     "output_type": "execute_result"
    }
   ],
   "source": [
    "\"HOLA QUE TAL IVAN\".find(\"ivan\")"
   ]
  },
  {
   "cell_type": "code",
   "execution_count": 31,
   "id": "e1437f64",
   "metadata": {},
   "outputs": [],
   "source": [
    "def quitar_tildes(texto):\n",
    "    from unidecode import unidecode\n",
    "    return unidecode(texto)"
   ]
  },
  {
   "cell_type": "code",
   "execution_count": 34,
   "id": "edebfe5a",
   "metadata": {},
   "outputs": [
    {
     "data": {
      "text/plain": [
       "'PEREZ ESPANA BARCA'"
      ]
     },
     "execution_count": 34,
     "metadata": {},
     "output_type": "execute_result"
    }
   ],
   "source": [
    "quitar_tildes(\"PÉREZ ESPAÑA BARÇA\")"
   ]
  },
  {
   "cell_type": "code",
   "execution_count": 30,
   "id": "230f34f2",
   "metadata": {},
   "outputs": [
    {
     "name": "stdout",
     "output_type": "stream",
     "text": [
      "Collecting unidecode\n",
      "  Obtaining dependency information for unidecode from https://files.pythonhosted.org/packages/e4/63/7685ef40c65aba621ccd2524a24181bf11f0535ab1fdba47e40738eacff6/Unidecode-1.3.7-py3-none-any.whl.metadata\n",
      "  Downloading Unidecode-1.3.7-py3-none-any.whl.metadata (13 kB)\n",
      "Downloading Unidecode-1.3.7-py3-none-any.whl (235 kB)\n",
      "\u001b[2K   \u001b[38;2;114;156;31m━━━━━━━━━━━━━━━━━━━━━━━━━━━━━━━━━━━━━━━━\u001b[0m \u001b[32m235.5/235.5 kB\u001b[0m \u001b[31m6.9 MB/s\u001b[0m eta \u001b[36m0:00:00\u001b[0m MB/s\u001b[0m eta \u001b[36m0:00:01\u001b[0m\n",
      "\u001b[?25hInstalling collected packages: unidecode\n",
      "Successfully installed unidecode-1.3.7\n"
     ]
    }
   ],
   "source": [
    "!pip install unidecode"
   ]
  },
  {
   "cell_type": "code",
   "execution_count": 35,
   "id": "badf1b6e",
   "metadata": {},
   "outputs": [
    {
     "name": "stdout",
     "output_type": "stream",
     "text": [
      " 2023-09-27\t\t\t\t   'file-sample_150kB (1).pdf'\r\n",
      "'Expresiones Regulares, ejercicios.ipynb'   file-sample_150kB.pdf\r\n",
      " LICENSE\t\t\t\t    files\r\n",
      " README.md\t\t\t\t    main.py\r\n",
      " archivo_local.zip\t\t\t    main2.py\r\n",
      " boe_scraping.py\t\t\t    notebok.ipynb\r\n",
      " boe_tipo_1.pdf\t\t\t\t    pruebas.py\r\n",
      " boe_tipo_2.pdf\t\t\t\t    read_pdf_text.py\r\n",
      " boe_tipo_3.pdf\t\t\t\t    test.txt\r\n",
      " boe_tipo_4.pdf\t\t\t\t    test_json.json\r\n",
      " boe_tipo_5.pdf\t\t\t\t    tipo2.py\r\n",
      " datos.json\r\n"
     ]
    }
   ],
   "source": [
    "!ls"
   ]
  },
  {
   "cell_type": "code",
   "execution_count": 41,
   "id": "8b1363f0",
   "metadata": {},
   "outputs": [
    {
     "name": "stdout",
     "output_type": "stream",
     "text": [
      "El PDF tiene 15 páginas.\n"
     ]
    }
   ],
   "source": [
    "import PyPDF2\n",
    "file_path_1 = \"boe_tipo_1.pdf\"\n",
    "file_path_2 = \"/home/ivang/proyectos/BoeSearchApp/BoeSearchApp/boe_tipo_1.pdf\"\n",
    "file_path_3 = \"/home/ivang/proyectos/BoeSearchApp/BoeSearchApp/files/boe_tipo_1.pdf\"\n",
    "with open(file_path_3, 'rb') as pdf_file:\n",
    "            # Crea un objeto PdfFileReader para leer el archivo PDF\n",
    "        pdf_reader = PyPDF2.PdfFileReader(pdf_file)\n",
    "\n",
    "        # Verifica si el archivo PDF se puede leer correctamente\n",
    "        if pdf_reader.isEncrypted:\n",
    "            pdf_reader.decrypt(\"\")  # Si el PDF está protegido con contraseña, proporciónala aquí\n",
    "\n",
    "        # Imprime el número de páginas en el PDF\n",
    "        num_paginas = pdf_reader.numPages\n",
    "        print(f\"El PDF tiene {num_paginas} páginas.\")"
   ]
  },
  {
   "cell_type": "code",
   "execution_count": 44,
   "id": "8fa38200",
   "metadata": {},
   "outputs": [],
   "source": [
    "import re"
   ]
  },
  {
   "cell_type": "code",
   "execution_count": 45,
   "id": "11f4e5b4",
   "metadata": {},
   "outputs": [
    {
     "name": "stdout",
     "output_type": "stream",
     "text": [
      "OK\n"
     ]
    }
   ],
   "source": [
    "texto = \"VELA ALONSO, ILIANA RODA GUTIERREZ GONZALEZ IVAN PEREZ GUTIERREZ IVAN\"\n",
    "if \"ANA\" in a:\n",
    "    print(\"OK\")"
   ]
  },
  {
   "cell_type": "code",
   "execution_count": 50,
   "id": "f75c9c1a",
   "metadata": {},
   "outputs": [
    {
     "data": {
      "text/plain": [
       "'IVAN'"
      ]
     },
     "execution_count": 50,
     "metadata": {},
     "output_type": "execute_result"
    }
   ],
   "source": [
    "nombre = \"IVAN\"\n",
    "pattern = r'\\b' + re.escape(nombre) + r'\\b'\n",
    "pattern_2 = r'\\b\\w+IVAN\\w \\b'\n",
    "\n",
    "re.search(nombre,texto).group()"
   ]
  },
  {
   "cell_type": "code",
   "execution_count": 52,
   "id": "fe8db1a9",
   "metadata": {},
   "outputs": [],
   "source": [
    "# Patrón de búsqueda (apellido1 apellido2 nombre)\n",
    "patron = r\"(\\w+) (\\w+) (\\w+)\"\n",
    "\n",
    "datos = [\n",
    "    \"González Pérez, Juan\",\n",
    "    \"López García, Ana María\",\n",
    "    \"Martínez Ruiz, Pedro\",\n",
    "    \"Sánchez Rodríguez, María José\",\n",
    "]\n",
    "# Busca el patrón en los datos\n",
    "for linea in datos:\n",
    "    coincidencias = re.search(patron, linea)\n",
    "    if coincidencias:\n",
    "        apellido1 = coincidencias.group(1)\n",
    "        apellido2 = coincidencias.group(2)\n",
    "        nombre = coincidencias.group(3)\n",
    "        print(f\"Coincidencia encontrada: Apellido1: {apellido1}, Apellido2: {apellido2}, Nombre: {nombre}\")\n",
    "\n",
    "\n"
   ]
  },
  {
   "cell_type": "code",
   "execution_count": 55,
   "id": "75979d1c",
   "metadata": {},
   "outputs": [
    {
     "name": "stdout",
     "output_type": "stream",
     "text": [
      "No se encontró ninguna coincidencia.\n"
     ]
    }
   ],
   "source": [
    "import re\n",
    "\n",
    "def buscar_nombre_en_lista(nombre, apellido1, apellido2, lista_nombres):\n",
    "    # Patrón de búsqueda flexible\n",
    "    patron = r\"(\\w+(?:,)?\\s*\\w+)\\s*,?\\s*(\\w+(?:,)?\\s*\\w+)\\s*,?\\s*(\\w+)\"\n",
    "\n",
    "    # Formatear el nombre y los apellidos en el formato esperado para la búsqueda\n",
    "    nombre_busqueda = f\"{nombre} {apellido1} {apellido2}\"\n",
    "\n",
    "    # Iterar a través de la lista de nombres y apellidos\n",
    "    for linea in lista_nombres:\n",
    "        coincidencias = re.search(patron, linea, re.IGNORECASE | re.UNICODE)\n",
    "        if coincidencias:\n",
    "            nombre_completo = f\"{coincidencias.group(3)} {coincidencias.group(1)} {coincidencias.group(2)}\"\n",
    "            if nombre_completo.lower() == nombre_busqueda.lower():\n",
    "                return f\"Se encontró una coincidencia: {nombre_completo}\"\n",
    "    \n",
    "    return \"No se encontró ninguna coincidencia.\"\n",
    "\n",
    "# Ejemplo de uso\n",
    "nombre = \"Juan\"\n",
    "apellido1 = \"González\"\n",
    "apellido2 = \"Pérez\"\n",
    "\n",
    "lista_nombres = [\n",
    "    \"López García, Ana María\",\n",
    "    \"GUTIERREZ GONZALEZ, IVAN\",\n",
    "    \"González Pérez, Juan\",\n",
    "    \"Sánchez Rodríguez, María José\",\n",
    "    \"Martínez Ruiz, Pedro\",\n",
    "]\n",
    "\n",
    "resultado = buscar_nombre_en_lista(\"Juan\", \"González\", \"Pérez\", lista_nombres)\n",
    "print(resultado)"
   ]
  },
  {
   "cell_type": "code",
   "execution_count": 56,
   "id": "6e46d6b1",
   "metadata": {},
   "outputs": [
    {
     "ename": "AttributeError",
     "evalue": "module 'datetime' has no attribute 'now'",
     "output_type": "error",
     "traceback": [
      "\u001b[0;31m---------------------------------------------------------------------------\u001b[0m",
      "\u001b[0;31mAttributeError\u001b[0m                            Traceback (most recent call last)",
      "Cell \u001b[0;32mIn[56], line 2\u001b[0m\n\u001b[1;32m      1\u001b[0m \u001b[38;5;28;01mimport\u001b[39;00m \u001b[38;5;21;01mdatetime\u001b[39;00m\n\u001b[0;32m----> 2\u001b[0m datetime\u001b[38;5;241m.\u001b[39mnow()\n",
      "\u001b[0;31mAttributeError\u001b[0m: module 'datetime' has no attribute 'now'"
     ]
    }
   ],
   "source": [
    "import datetime\n",
    "datetime.now()"
   ]
  },
  {
   "cell_type": "code",
   "execution_count": null,
   "id": "c0712785",
   "metadata": {},
   "outputs": [],
   "source": []
  }
 ],
 "metadata": {
  "kernelspec": {
   "display_name": "Python 3 (ipykernel)",
   "language": "python",
   "name": "python3"
  },
  "language_info": {
   "codemirror_mode": {
    "name": "ipython",
    "version": 3
   },
   "file_extension": ".py",
   "mimetype": "text/x-python",
   "name": "python",
   "nbconvert_exporter": "python",
   "pygments_lexer": "ipython3",
   "version": "3.11.5"
  }
 },
 "nbformat": 4,
 "nbformat_minor": 5
}
